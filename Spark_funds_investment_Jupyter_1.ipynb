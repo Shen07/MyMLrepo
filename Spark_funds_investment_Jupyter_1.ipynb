{
 "cells": [
  {
   "cell_type": "markdown",
   "metadata": {},
   "source": [
    "# Spark Funds Investment case study"
   ]
  },
  {
   "cell_type": "markdown",
   "metadata": {
    "heading_collapsed": true
   },
   "source": [
    "### Loading libraries and files"
   ]
  },
  {
   "cell_type": "code",
   "execution_count": 1,
   "metadata": {},
   "outputs": [],
   "source": [
    "import pandas as pd\n",
    "import numpy as np\n",
    "import PyPDF2\n",
    "import seaborn as sns\n",
    "import matplotlib.pyplot as plt\n",
    "import pycountry\n",
    "import pprint"
   ]
  },
  {
   "cell_type": "code",
   "execution_count": 2,
   "metadata": {
    "hidden": true
   },
   "outputs": [],
   "source": [
    "file1 = 'C:/Users/Sheshu/IIITB_/Data files/companies.txt'\n",
    "file2 = 'C:/Users/Sheshu/IIITB_/Data files/rounds2.csv'\n",
    "file3 = 'C:/Users/Sheshu/IIITB_/Data files/mapping.csv'\n",
    "file4 = 'C:/Users/Sheshu/IIITB_/Data files/Countries_where_English_is_an_official_language.pdf'"
   ]
  },
  {
   "cell_type": "code",
   "execution_count": 3,
   "metadata": {
    "hidden": true
   },
   "outputs": [],
   "source": [
    "pd.options.display.float_format = '{:,.2f}'.format"
   ]
  },
  {
   "cell_type": "code",
   "execution_count": 4,
   "metadata": {
    "hidden": true
   },
   "outputs": [],
   "source": [
    "#reading all the files with the same encoding\n",
    "df_companies = pd.read_csv(file1, sep='\\t', encoding='ISO-8859-1')\n",
    "df_rounds = pd.read_csv(file2, sep=',', encoding='ISO-8859-1')\n",
    "df_sector_mapping = pd.read_csv(file3, sep=',', encoding='ISO-8859-1')"
   ]
  },
  {
   "cell_type": "code",
   "execution_count": 5,
   "metadata": {
    "code_folding": [
     0
    ],
    "hidden": true
   },
   "outputs": [],
   "source": [
    "#function to calculate missing values sum, percentage\n",
    "def missing_values(x, args='sum'):\n",
    "    mv = x.isnull().sum()\n",
    "    if args == 'perc':\n",
    "        mp = round(100*mv/len(x), 2)\n",
    "        print('% of Missing values per column\\n{}'.format(mp))\n",
    "    else:\n",
    "        print('Sum of Missing values per column\\n{}'.format(mv))"
   ]
  },
  {
   "cell_type": "code",
   "execution_count": 6,
   "metadata": {
    "hidden": true
   },
   "outputs": [],
   "source": [
    "df3 = pd.read_csv(file3)"
   ]
  },
  {
   "cell_type": "markdown",
   "metadata": {
    "heading_collapsed": true
   },
   "source": [
    "### Data Initial analysis"
   ]
  },
  {
   "cell_type": "code",
   "execution_count": 7,
   "metadata": {
    "hidden": true,
    "scrolled": true
   },
   "outputs": [
    {
     "name": "stdout",
     "output_type": "stream",
     "text": [
      "<class 'pandas.core.frame.DataFrame'>\n",
      "RangeIndex: 66368 entries, 0 to 66367\n",
      "Data columns (total 10 columns):\n",
      "permalink        66368 non-null object\n",
      "name             66367 non-null object\n",
      "homepage_url     61310 non-null object\n",
      "category_list    63220 non-null object\n",
      "status           66368 non-null object\n",
      "country_code     59410 non-null object\n",
      "state_code       57821 non-null object\n",
      "region           58338 non-null object\n",
      "city             58340 non-null object\n",
      "founded_at       51147 non-null object\n",
      "dtypes: object(10)\n",
      "memory usage: 5.1+ MB\n"
     ]
    }
   ],
   "source": [
    "df_companies.info()"
   ]
  },
  {
   "cell_type": "code",
   "execution_count": 8,
   "metadata": {
    "hidden": true,
    "scrolled": true
   },
   "outputs": [
    {
     "data": {
      "text/html": [
       "<div>\n",
       "<style scoped>\n",
       "    .dataframe tbody tr th:only-of-type {\n",
       "        vertical-align: middle;\n",
       "    }\n",
       "\n",
       "    .dataframe tbody tr th {\n",
       "        vertical-align: top;\n",
       "    }\n",
       "\n",
       "    .dataframe thead th {\n",
       "        text-align: right;\n",
       "    }\n",
       "</style>\n",
       "<table border=\"1\" class=\"dataframe\">\n",
       "  <thead>\n",
       "    <tr style=\"text-align: right;\">\n",
       "      <th></th>\n",
       "      <th>permalink</th>\n",
       "      <th>name</th>\n",
       "      <th>homepage_url</th>\n",
       "      <th>category_list</th>\n",
       "      <th>status</th>\n",
       "      <th>country_code</th>\n",
       "      <th>state_code</th>\n",
       "      <th>region</th>\n",
       "      <th>city</th>\n",
       "      <th>founded_at</th>\n",
       "    </tr>\n",
       "  </thead>\n",
       "  <tbody>\n",
       "    <tr>\n",
       "      <th>33493</th>\n",
       "      <td>/Organization/Lumicara</td>\n",
       "      <td>Lumicara</td>\n",
       "      <td>http://www.lumicara.com</td>\n",
       "      <td>Consumer Lending|E-Commerce|Emerging Markets|H...</td>\n",
       "      <td>operating</td>\n",
       "      <td>SGP</td>\n",
       "      <td>NaN</td>\n",
       "      <td>NaN</td>\n",
       "      <td>NaN</td>\n",
       "      <td>01-08-2014</td>\n",
       "    </tr>\n",
       "    <tr>\n",
       "      <th>66315</th>\n",
       "      <td>/Organization/Zuujit</td>\n",
       "      <td>Zuujit</td>\n",
       "      <td>http://www.zuujit.com</td>\n",
       "      <td>E-Commerce</td>\n",
       "      <td>closed</td>\n",
       "      <td>USA</td>\n",
       "      <td>CA</td>\n",
       "      <td>Santa Barbara</td>\n",
       "      <td>Santa Barbara</td>\n",
       "      <td>01-01-2010</td>\n",
       "    </tr>\n",
       "    <tr>\n",
       "      <th>23668</th>\n",
       "      <td>/Organization/Gorkha</td>\n",
       "      <td>Gorkha</td>\n",
       "      <td>http://digitalgorkha.com</td>\n",
       "      <td>Travel &amp; Tourism</td>\n",
       "      <td>operating</td>\n",
       "      <td>IND</td>\n",
       "      <td>16</td>\n",
       "      <td>Mumbai</td>\n",
       "      <td>Mumbai</td>\n",
       "      <td>01-02-2014</td>\n",
       "    </tr>\n",
       "    <tr>\n",
       "      <th>63319</th>\n",
       "      <td>/Organization/Webcurfew</td>\n",
       "      <td>WebCurfew</td>\n",
       "      <td>http://www.webcurfew.com</td>\n",
       "      <td>Curated Web|Finance|Home Automation|Internet o...</td>\n",
       "      <td>operating</td>\n",
       "      <td>USA</td>\n",
       "      <td>IL</td>\n",
       "      <td>Chicago</td>\n",
       "      <td>Chicago</td>\n",
       "      <td>01-05-2013</td>\n",
       "    </tr>\n",
       "    <tr>\n",
       "      <th>41308</th>\n",
       "      <td>/Organization/Optivia</td>\n",
       "      <td>OptiVia</td>\n",
       "      <td>http://www.optiviamedical.com/</td>\n",
       "      <td>NaN</td>\n",
       "      <td>closed</td>\n",
       "      <td>USA</td>\n",
       "      <td>NC</td>\n",
       "      <td>Winston-Salem</td>\n",
       "      <td>Winston Salem</td>\n",
       "      <td>NaN</td>\n",
       "    </tr>\n",
       "    <tr>\n",
       "      <th>10604</th>\n",
       "      <td>/Organization/Challengepost</td>\n",
       "      <td>ChallengePost</td>\n",
       "      <td>http://www.challengepost.com</td>\n",
       "      <td>Curated Web|Developer APIs|Developer Tools|Dev...</td>\n",
       "      <td>operating</td>\n",
       "      <td>USA</td>\n",
       "      <td>NY</td>\n",
       "      <td>New York City</td>\n",
       "      <td>New York</td>\n",
       "      <td>01-01-2009</td>\n",
       "    </tr>\n",
       "    <tr>\n",
       "      <th>23928</th>\n",
       "      <td>/Organization/Greekdrop</td>\n",
       "      <td>Greekdrop</td>\n",
       "      <td>http://www.greekdrop.com</td>\n",
       "      <td>E-Commerce</td>\n",
       "      <td>operating</td>\n",
       "      <td>USA</td>\n",
       "      <td>CA</td>\n",
       "      <td>Sacramento</td>\n",
       "      <td>Davis</td>\n",
       "      <td>01-08-2012</td>\n",
       "    </tr>\n",
       "    <tr>\n",
       "      <th>45278</th>\n",
       "      <td>/Organization/Procare-Restoration-Services</td>\n",
       "      <td>ProCare Restoration Services</td>\n",
       "      <td>http://www.procareteam.com/</td>\n",
       "      <td>Real Estate</td>\n",
       "      <td>operating</td>\n",
       "      <td>USA</td>\n",
       "      <td>MI</td>\n",
       "      <td>Grand Rapids</td>\n",
       "      <td>Grand Rapids</td>\n",
       "      <td>04-01-2010</td>\n",
       "    </tr>\n",
       "    <tr>\n",
       "      <th>47752</th>\n",
       "      <td>/Organization/Remocean</td>\n",
       "      <td>remocean</td>\n",
       "      <td>http://www.remocean.it</td>\n",
       "      <td>Geospatial|Hardware + Software|Predictive Anal...</td>\n",
       "      <td>operating</td>\n",
       "      <td>ITA</td>\n",
       "      <td>4</td>\n",
       "      <td>Napoli</td>\n",
       "      <td>Napoli</td>\n",
       "      <td>01-01-2010</td>\n",
       "    </tr>\n",
       "    <tr>\n",
       "      <th>11034</th>\n",
       "      <td>/Organization/Chronicled</td>\n",
       "      <td>Chronicled</td>\n",
       "      <td>http://chronicled.com</td>\n",
       "      <td>E-Commerce|Internet|Technology</td>\n",
       "      <td>operating</td>\n",
       "      <td>USA</td>\n",
       "      <td>CA</td>\n",
       "      <td>SF Bay Area</td>\n",
       "      <td>San Francisco</td>\n",
       "      <td>NaN</td>\n",
       "    </tr>\n",
       "  </tbody>\n",
       "</table>\n",
       "</div>"
      ],
      "text/plain": [
       "                                        permalink  \\\n",
       "33493                      /Organization/Lumicara   \n",
       "66315                        /Organization/Zuujit   \n",
       "23668                        /Organization/Gorkha   \n",
       "63319                     /Organization/Webcurfew   \n",
       "41308                       /Organization/Optivia   \n",
       "10604                 /Organization/Challengepost   \n",
       "23928                     /Organization/Greekdrop   \n",
       "45278  /Organization/Procare-Restoration-Services   \n",
       "47752                      /Organization/Remocean   \n",
       "11034                    /Organization/Chronicled   \n",
       "\n",
       "                               name                    homepage_url  \\\n",
       "33493                      Lumicara         http://www.lumicara.com   \n",
       "66315                        Zuujit           http://www.zuujit.com   \n",
       "23668                        Gorkha        http://digitalgorkha.com   \n",
       "63319                     WebCurfew        http://www.webcurfew.com   \n",
       "41308                       OptiVia  http://www.optiviamedical.com/   \n",
       "10604                 ChallengePost    http://www.challengepost.com   \n",
       "23928                     Greekdrop        http://www.greekdrop.com   \n",
       "45278  ProCare Restoration Services     http://www.procareteam.com/   \n",
       "47752                      remocean          http://www.remocean.it   \n",
       "11034                    Chronicled           http://chronicled.com   \n",
       "\n",
       "                                           category_list     status  \\\n",
       "33493  Consumer Lending|E-Commerce|Emerging Markets|H...  operating   \n",
       "66315                                         E-Commerce     closed   \n",
       "23668                                   Travel & Tourism  operating   \n",
       "63319  Curated Web|Finance|Home Automation|Internet o...  operating   \n",
       "41308                                                NaN     closed   \n",
       "10604  Curated Web|Developer APIs|Developer Tools|Dev...  operating   \n",
       "23928                                         E-Commerce  operating   \n",
       "45278                                        Real Estate  operating   \n",
       "47752  Geospatial|Hardware + Software|Predictive Anal...  operating   \n",
       "11034                     E-Commerce|Internet|Technology  operating   \n",
       "\n",
       "      country_code state_code         region           city  founded_at  \n",
       "33493          SGP        NaN            NaN            NaN  01-08-2014  \n",
       "66315          USA         CA  Santa Barbara  Santa Barbara  01-01-2010  \n",
       "23668          IND         16         Mumbai         Mumbai  01-02-2014  \n",
       "63319          USA         IL        Chicago        Chicago  01-05-2013  \n",
       "41308          USA         NC  Winston-Salem  Winston Salem         NaN  \n",
       "10604          USA         NY  New York City       New York  01-01-2009  \n",
       "23928          USA         CA     Sacramento          Davis  01-08-2012  \n",
       "45278          USA         MI   Grand Rapids   Grand Rapids  04-01-2010  \n",
       "47752          ITA          4         Napoli         Napoli  01-01-2010  \n",
       "11034          USA         CA    SF Bay Area  San Francisco         NaN  "
      ]
     },
     "execution_count": 8,
     "metadata": {},
     "output_type": "execute_result"
    }
   ],
   "source": [
    "df_companies.sample(10)"
   ]
  },
  {
   "cell_type": "code",
   "execution_count": 9,
   "metadata": {
    "hidden": true,
    "scrolled": true
   },
   "outputs": [
    {
     "name": "stdout",
     "output_type": "stream",
     "text": [
      "<class 'pandas.core.frame.DataFrame'>\n",
      "RangeIndex: 114949 entries, 0 to 114948\n",
      "Data columns (total 6 columns):\n",
      "company_permalink          114949 non-null object\n",
      "funding_round_permalink    114949 non-null object\n",
      "funding_round_type         114949 non-null object\n",
      "funding_round_code         31140 non-null object\n",
      "funded_at                  114949 non-null object\n",
      "raised_amount_usd          94959 non-null float64\n",
      "dtypes: float64(1), object(5)\n",
      "memory usage: 5.3+ MB\n"
     ]
    }
   ],
   "source": [
    "df_rounds.info()"
   ]
  },
  {
   "cell_type": "code",
   "execution_count": 10,
   "metadata": {
    "hidden": true
   },
   "outputs": [
    {
     "data": {
      "text/plain": [
       "count                       114949\n",
       "unique                       90247\n",
       "top       /ORGANIZATION/SOLARFLARE\n",
       "freq                            10\n",
       "Name: company_permalink, dtype: object"
      ]
     },
     "execution_count": 10,
     "metadata": {},
     "output_type": "execute_result"
    }
   ],
   "source": [
    "df_rounds.company_permalink.describe()"
   ]
  },
  {
   "cell_type": "code",
   "execution_count": 11,
   "metadata": {
    "hidden": true,
    "scrolled": true
   },
   "outputs": [
    {
     "data": {
      "text/html": [
       "<div>\n",
       "<style scoped>\n",
       "    .dataframe tbody tr th:only-of-type {\n",
       "        vertical-align: middle;\n",
       "    }\n",
       "\n",
       "    .dataframe tbody tr th {\n",
       "        vertical-align: top;\n",
       "    }\n",
       "\n",
       "    .dataframe thead th {\n",
       "        text-align: right;\n",
       "    }\n",
       "</style>\n",
       "<table border=\"1\" class=\"dataframe\">\n",
       "  <thead>\n",
       "    <tr style=\"text-align: right;\">\n",
       "      <th></th>\n",
       "      <th>company_permalink</th>\n",
       "      <th>funding_round_permalink</th>\n",
       "      <th>funding_round_type</th>\n",
       "      <th>funding_round_code</th>\n",
       "      <th>funded_at</th>\n",
       "      <th>raised_amount_usd</th>\n",
       "    </tr>\n",
       "  </thead>\n",
       "  <tbody>\n",
       "    <tr>\n",
       "      <th>114399</th>\n",
       "      <td>/ORGANIZATION/ZIPSCENE</td>\n",
       "      <td>/funding-round/14a5a687f4e39523d5a33a6cc12967fd</td>\n",
       "      <td>seed</td>\n",
       "      <td>NaN</td>\n",
       "      <td>01-01-2011</td>\n",
       "      <td>nan</td>\n",
       "    </tr>\n",
       "    <tr>\n",
       "      <th>15337</th>\n",
       "      <td>/ORGANIZATION/BROMIUM</td>\n",
       "      <td>/funding-round/0034c275271eac561977bd9a630f8c68</td>\n",
       "      <td>venture</td>\n",
       "      <td>NaN</td>\n",
       "      <td>01-04-2012</td>\n",
       "      <td>100,000.00</td>\n",
       "    </tr>\n",
       "    <tr>\n",
       "      <th>22898</th>\n",
       "      <td>/organization/connecttohome</td>\n",
       "      <td>/funding-round/e007a0e31f841dcd3ba7df07373b5f79</td>\n",
       "      <td>grant</td>\n",
       "      <td>NaN</td>\n",
       "      <td>19-09-2013</td>\n",
       "      <td>20,000.00</td>\n",
       "    </tr>\n",
       "    <tr>\n",
       "      <th>17185</th>\n",
       "      <td>/ORGANIZATION/CARDIOVASCULAR-SIMULATION</td>\n",
       "      <td>/funding-round/fbc6db2f21076faad631e96c12f83d07</td>\n",
       "      <td>venture</td>\n",
       "      <td>NaN</td>\n",
       "      <td>19-04-2010</td>\n",
       "      <td>1,600,000.00</td>\n",
       "    </tr>\n",
       "    <tr>\n",
       "      <th>99835</th>\n",
       "      <td>/ORGANIZATION/THE-SCHOLARS-CLUB-INC</td>\n",
       "      <td>/funding-round/e955ec41b1c6ab80558d07f0abc1c10d</td>\n",
       "      <td>seed</td>\n",
       "      <td>NaN</td>\n",
       "      <td>01-08-2012</td>\n",
       "      <td>10,000.00</td>\n",
       "    </tr>\n",
       "  </tbody>\n",
       "</table>\n",
       "</div>"
      ],
      "text/plain": [
       "                              company_permalink  \\\n",
       "114399                   /ORGANIZATION/ZIPSCENE   \n",
       "15337                     /ORGANIZATION/BROMIUM   \n",
       "22898               /organization/connecttohome   \n",
       "17185   /ORGANIZATION/CARDIOVASCULAR-SIMULATION   \n",
       "99835       /ORGANIZATION/THE-SCHOLARS-CLUB-INC   \n",
       "\n",
       "                                funding_round_permalink funding_round_type  \\\n",
       "114399  /funding-round/14a5a687f4e39523d5a33a6cc12967fd               seed   \n",
       "15337   /funding-round/0034c275271eac561977bd9a630f8c68            venture   \n",
       "22898   /funding-round/e007a0e31f841dcd3ba7df07373b5f79              grant   \n",
       "17185   /funding-round/fbc6db2f21076faad631e96c12f83d07            venture   \n",
       "99835   /funding-round/e955ec41b1c6ab80558d07f0abc1c10d               seed   \n",
       "\n",
       "       funding_round_code   funded_at  raised_amount_usd  \n",
       "114399                NaN  01-01-2011                nan  \n",
       "15337                 NaN  01-04-2012         100,000.00  \n",
       "22898                 NaN  19-09-2013          20,000.00  \n",
       "17185                 NaN  19-04-2010       1,600,000.00  \n",
       "99835                 NaN  01-08-2012          10,000.00  "
      ]
     },
     "execution_count": 11,
     "metadata": {},
     "output_type": "execute_result"
    }
   ],
   "source": [
    "df_rounds.sample(5)"
   ]
  },
  {
   "cell_type": "markdown",
   "metadata": {
    "hidden": true
   },
   "source": [
    "#### Data cleaning####\n",
    "\n",
    "before comparing the list of companies in both the dataframes we need to cleanse the key colummns __'permalink'__ and __'company_permalink'__. By converting them to lower/upper case."
   ]
  },
  {
   "cell_type": "code",
   "execution_count": 12,
   "metadata": {
    "hidden": true,
    "scrolled": false
   },
   "outputs": [
    {
     "data": {
      "text/plain": [
       "{'/ORGANIZATION/E-CÃ\\x8aBICA',\n",
       " '/ORGANIZATION/ENERGYSTONE-GAMES-Ç\\x81ΜÇ\\x9f³Æ¸¸Æ\\x88\\x8f',\n",
       " '/ORGANIZATION/HUIZUCHE-COM-Æ\\x83\\xa0Ç§ŸÈ½¦',\n",
       " '/ORGANIZATION/MAGNET-TECH-Ç£\\x81Ç\\x9f³Ç§\\x91Æ\\x8a\\x80',\n",
       " '/ORGANIZATION/TIPCAT-INTERACTIVE-Æ²\\x99È\\x88ŸÄ¿¡Æ\\x81¯Ç§\\x91Æ\\x9a\\x80',\n",
       " '/ORGANIZATION/WEICHE-TECH-Å\\x96\\x82È½¦Ç§\\x91Æ\\x8a\\x80',\n",
       " '/ORGANIZATION/ZENGAME-Ç¦\\x85Æ¸¸Ç§\\x91Æ\\x8a\\x80'}"
      ]
     },
     "execution_count": 12,
     "metadata": {},
     "output_type": "execute_result"
    }
   ],
   "source": [
    "set(df_rounds.company_permalink.str.upper())-set(df_companies.permalink.str.upper())"
   ]
  },
  {
   "cell_type": "code",
   "execution_count": 13,
   "metadata": {
    "hidden": true
   },
   "outputs": [
    {
     "data": {
      "text/plain": [
       "{'/ORGANIZATION/E-CÃ\\x9aBICA',\n",
       " '/ORGANIZATION/ENERGYSTONE-GAMES-Ç\\x81ΜÇŸ³Æ¸¸Æ\\x88\\x8f',\n",
       " '/ORGANIZATION/HUIZUCHE-COM-Æ\\x83\\xa0Ç§\\x9fÈ½¦',\n",
       " '/ORGANIZATION/TIPCAT-INTERACTIVE-Æ²\\x99È\\x88\\x9fÄ¿¡Æ\\x81¯Ç§\\x91Æ\\x9a\\x80',\n",
       " '/ORGANIZATION/ZENGAME-Ç¦\\x85Æ¸¸Ç§\\x91Æ\\x9a\\x80'}"
      ]
     },
     "execution_count": 13,
     "metadata": {},
     "output_type": "execute_result"
    }
   ],
   "source": [
    "set(df_companies.permalink.str.upper())-set(df_rounds.company_permalink.str.upper())"
   ]
  },
  {
   "cell_type": "markdown",
   "metadata": {
    "hidden": true
   },
   "source": [
    "as we can see from the results there are common values in both the columns but are embedded with different non readable characters. so we need to remove those to get clean values."
   ]
  },
  {
   "cell_type": "code",
   "execution_count": 14,
   "metadata": {
    "hidden": true
   },
   "outputs": [],
   "source": [
    "df_companies.permalink = df_companies.permalink.apply(lambda x: x.strip().upper().encode('ISO-8859-1', 'ignore').decode('ascii', 'ignore'))"
   ]
  },
  {
   "cell_type": "code",
   "execution_count": 15,
   "metadata": {
    "hidden": true
   },
   "outputs": [],
   "source": [
    "df_rounds.company_permalink = df_rounds.company_permalink.apply(lambda x: x.strip().upper().encode('ISO-8859-1', 'ignore').decode('ascii', 'ignore'))"
   ]
  },
  {
   "cell_type": "code",
   "execution_count": 16,
   "metadata": {
    "hidden": true
   },
   "outputs": [
    {
     "data": {
      "text/plain": [
       "set()"
      ]
     },
     "execution_count": 16,
     "metadata": {},
     "output_type": "execute_result"
    }
   ],
   "source": [
    "set(df_rounds.company_permalink.str.upper())-set(df_companies.permalink.str.upper())"
   ]
  },
  {
   "cell_type": "markdown",
   "metadata": {
    "hidden": true
   },
   "source": [
    "Therefore this confirms that there are no companies in rounds2 that aren't there in companies dataset. we can merge the two frames on this common key columns."
   ]
  },
  {
   "cell_type": "markdown",
   "metadata": {},
   "source": [
    "###  Funding type Analysis"
   ]
  },
  {
   "cell_type": "code",
   "execution_count": 17,
   "metadata": {
    "scrolled": false
   },
   "outputs": [],
   "source": [
    "master_frame = pd.merge(df_rounds, df_companies, left_on='company_permalink', right_on='permalink', how='inner')"
   ]
  },
  {
   "cell_type": "code",
   "execution_count": 18,
   "metadata": {},
   "outputs": [
    {
     "name": "stdout",
     "output_type": "stream",
     "text": [
      "<class 'pandas.core.frame.DataFrame'>\n",
      "Int64Index: 114949 entries, 0 to 114948\n",
      "Data columns (total 16 columns):\n",
      "company_permalink          114949 non-null object\n",
      "funding_round_permalink    114949 non-null object\n",
      "funding_round_type         114949 non-null object\n",
      "funding_round_code         31140 non-null object\n",
      "funded_at                  114949 non-null object\n",
      "raised_amount_usd          94959 non-null float64\n",
      "permalink                  114949 non-null object\n",
      "name                       114948 non-null object\n",
      "homepage_url               108815 non-null object\n",
      "category_list              111539 non-null object\n",
      "status                     114949 non-null object\n",
      "country_code               106271 non-null object\n",
      "state_code                 104003 non-null object\n",
      "region                     104782 non-null object\n",
      "city                       104785 non-null object\n",
      "founded_at                 94428 non-null object\n",
      "dtypes: float64(1), object(15)\n",
      "memory usage: 14.9+ MB\n"
     ]
    }
   ],
   "source": [
    "master_frame.info()"
   ]
  },
  {
   "cell_type": "code",
   "execution_count": 19,
   "metadata": {
    "scrolled": true
   },
   "outputs": [
    {
     "data": {
      "text/plain": [
       "count                       114949\n",
       "unique                       66368\n",
       "top       /ORGANIZATION/SOLARFLARE\n",
       "freq                            19\n",
       "Name: company_permalink, dtype: object"
      ]
     },
     "execution_count": 19,
     "metadata": {},
     "output_type": "execute_result"
    }
   ],
   "source": [
    "master_frame.company_permalink.describe()"
   ]
  },
  {
   "cell_type": "code",
   "execution_count": 20,
   "metadata": {
    "code_folding": []
   },
   "outputs": [
    {
     "name": "stdout",
     "output_type": "stream",
     "text": [
      "Sum of Missing values per column\n",
      "company_permalink              0\n",
      "funding_round_permalink        0\n",
      "funding_round_type             0\n",
      "funding_round_code         83809\n",
      "funded_at                      0\n",
      "raised_amount_usd          19990\n",
      "permalink                      0\n",
      "name                           1\n",
      "homepage_url                6134\n",
      "category_list               3410\n",
      "status                         0\n",
      "country_code                8678\n",
      "state_code                 10946\n",
      "region                     10167\n",
      "city                       10164\n",
      "founded_at                 20521\n",
      "dtype: int64\n"
     ]
    }
   ],
   "source": [
    "missing_values(master_frame)"
   ]
  },
  {
   "cell_type": "code",
   "execution_count": 21,
   "metadata": {
    "scrolled": true
   },
   "outputs": [
    {
     "name": "stdout",
     "output_type": "stream",
     "text": [
      "% of Missing values per column\n",
      "company_permalink          0.00\n",
      "funding_round_permalink    0.00\n",
      "funding_round_type         0.00\n",
      "funding_round_code        72.91\n",
      "funded_at                  0.00\n",
      "raised_amount_usd         17.39\n",
      "permalink                  0.00\n",
      "name                       0.00\n",
      "homepage_url               5.34\n",
      "category_list              2.97\n",
      "status                     0.00\n",
      "country_code               7.55\n",
      "state_code                 9.52\n",
      "region                     8.84\n",
      "city                       8.84\n",
      "founded_at                17.85\n",
      "dtype: float64\n"
     ]
    }
   ],
   "source": [
    "missing_values(master_frame, 'perc')"
   ]
  },
  {
   "cell_type": "markdown",
   "metadata": {},
   "source": [
    "#### Dealing with missing values\n",
    "\n",
    "\n",
    "\n",
    "firstly we would deal with the column __'raised_amount_usd'__, ideally we could impute them with the most representative value or the lowest value, but to be on the safer side we will drop them as without this info the, row data is almost useless to our analysis.\n",
    "\n",
    "once we have all the rows where there are no missing values in column __'raised_amount_usd'__, only then we can proceed with dealing of missing row values of other columns. Because if we drop missing row values from other columns first, we might also lose row values in __'raised_amount_usd'__ column which are not null.\n"
   ]
  },
  {
   "cell_type": "code",
   "execution_count": 22,
   "metadata": {},
   "outputs": [],
   "source": [
    "master_frame = master_frame[pd.notnull(master_frame['raised_amount_usd'])]"
   ]
  },
  {
   "cell_type": "code",
   "execution_count": 23,
   "metadata": {},
   "outputs": [
    {
     "name": "stdout",
     "output_type": "stream",
     "text": [
      "% of Missing values per column\n",
      "company_permalink          0.00\n",
      "funding_round_permalink    0.00\n",
      "funding_round_type         0.00\n",
      "funding_round_code        70.34\n",
      "funded_at                  0.00\n",
      "raised_amount_usd          0.00\n",
      "permalink                  0.00\n",
      "name                       0.00\n",
      "homepage_url               4.56\n",
      "category_list              1.10\n",
      "status                     0.00\n",
      "country_code               6.16\n",
      "state_code                 8.01\n",
      "region                     7.42\n",
      "city                       7.42\n",
      "founded_at                16.81\n",
      "dtype: float64\n"
     ]
    }
   ],
   "source": [
    "missing_values(master_frame, 'perc')"
   ]
  },
  {
   "cell_type": "markdown",
   "metadata": {},
   "source": [
    "the column __'funding_round_code'__ can be dropped as it has very high percentage of missing values.\n",
    "\n",
    "Also except __'funding_round_type', 'country_code', 'category_list'__  and  __'raised_amount_usd', 'company_permalink', 'name'__ , the other columns are not of much value for our current analysis.\n",
    "\n",
    "so we can drop those."
   ]
  },
  {
   "cell_type": "code",
   "execution_count": 24,
   "metadata": {},
   "outputs": [],
   "source": [
    "dropcols = ['status','state_code','region','city','funded_at', 'founded_at', 'permalink', 'funding_round_code', 'homepage_url']"
   ]
  },
  {
   "cell_type": "code",
   "execution_count": 25,
   "metadata": {},
   "outputs": [],
   "source": [
    "master_frame = master_frame.drop(dropcols, axis=1)"
   ]
  },
  {
   "cell_type": "code",
   "execution_count": 26,
   "metadata": {},
   "outputs": [
    {
     "name": "stdout",
     "output_type": "stream",
     "text": [
      "% of Missing values per column\n",
      "company_permalink         0.00\n",
      "funding_round_permalink   0.00\n",
      "funding_round_type        0.00\n",
      "raised_amount_usd         0.00\n",
      "name                      0.00\n",
      "category_list             1.10\n",
      "country_code              6.16\n",
      "dtype: float64\n"
     ]
    }
   ],
   "source": [
    "missing_values(master_frame, 'perc')"
   ]
  },
  {
   "cell_type": "code",
   "execution_count": 27,
   "metadata": {},
   "outputs": [
    {
     "data": {
      "text/plain": [
       "(0, 7)"
      ]
     },
     "execution_count": 27,
     "metadata": {},
     "output_type": "execute_result"
    }
   ],
   "source": [
    "# the number of rows having missing values across all columns\n",
    "master_frame[master_frame.isnull().sum(axis=1) > 6].shape"
   ]
  },
  {
   "cell_type": "markdown",
   "metadata": {},
   "source": [
    "we cant remove any more row data as we have all the row values for the __'raised_amount_usd'__ column.\n",
    "\n",
    "Imputing missing values in remaining columns"
   ]
  },
  {
   "cell_type": "code",
   "execution_count": 28,
   "metadata": {},
   "outputs": [
    {
     "name": "stdout",
     "output_type": "stream",
     "text": [
      "Sum of Missing values per column\n",
      "company_permalink             0\n",
      "funding_round_permalink       0\n",
      "funding_round_type            0\n",
      "raised_amount_usd             0\n",
      "name                          1\n",
      "category_list              1044\n",
      "country_code               5851\n",
      "dtype: int64\n"
     ]
    }
   ],
   "source": [
    "missing_values(master_frame)"
   ]
  },
  {
   "cell_type": "code",
   "execution_count": 29,
   "metadata": {},
   "outputs": [],
   "source": [
    "master_frame.category_list.fillna(value='Not defined', axis='rows', inplace=True)\n",
    "\n",
    "master_frame.country_code.fillna(value='Unknown', axis='rows', inplace=True)\n",
    "\n",
    "master_frame.name.fillna(value='Not available', axis='rows', inplace=True)"
   ]
  },
  {
   "cell_type": "code",
   "execution_count": 30,
   "metadata": {},
   "outputs": [
    {
     "name": "stdout",
     "output_type": "stream",
     "text": [
      "Sum of Missing values per column\n",
      "company_permalink          0\n",
      "funding_round_permalink    0\n",
      "funding_round_type         0\n",
      "raised_amount_usd          0\n",
      "name                       0\n",
      "category_list              0\n",
      "country_code               0\n",
      "dtype: int64\n"
     ]
    }
   ],
   "source": [
    "missing_values(master_frame)"
   ]
  },
  {
   "cell_type": "markdown",
   "metadata": {},
   "source": [
    "Now that there are no missing values we can proceed with the analysis"
   ]
  },
  {
   "cell_type": "code",
   "execution_count": 31,
   "metadata": {},
   "outputs": [
    {
     "data": {
      "text/plain": [
       "count             94959\n",
       "unique            23486\n",
       "top       Biotechnology\n",
       "freq               7773\n",
       "Name: category_list, dtype: object"
      ]
     },
     "execution_count": 31,
     "metadata": {},
     "output_type": "execute_result"
    }
   ],
   "source": [
    "master_frame.category_list.describe()"
   ]
  },
  {
   "cell_type": "code",
   "execution_count": 32,
   "metadata": {},
   "outputs": [
    {
     "data": {
      "text/plain": [
       "count           94,959.00\n",
       "mean        10,426,869.33\n",
       "std        114,821,247.98\n",
       "min                  0.00\n",
       "25%            322,500.00\n",
       "50%          1,680,511.00\n",
       "75%          7,000,000.00\n",
       "max     21,271,935,000.00\n",
       "Name: raised_amount_usd, dtype: float64"
      ]
     },
     "execution_count": 32,
     "metadata": {},
     "output_type": "execute_result"
    }
   ],
   "source": [
    "master_frame.raised_amount_usd.describe()"
   ]
  },
  {
   "cell_type": "code",
   "execution_count": 33,
   "metadata": {},
   "outputs": [
    {
     "data": {
      "image/png": "[encoded data removed]",
      "text/plain": [
       "<Figure size 360x72 with 1 Axes>"
      ]
     },
     "metadata": {},
     "output_type": "display_data"
    }
   ],
   "source": [
    "plt.figure(figsize=(5,1))\n",
    "sns.boxplot(master_frame['raised_amount_usd'])\n",
    "plt.title('raised_amount_usd')\n",
    "plt.xscale('log')\n",
    "plt.show()"
   ]
  },
  {
   "cell_type": "code",
   "execution_count": 34,
   "metadata": {},
   "outputs": [
    {
     "data": {
      "text/plain": [
       "funding_round_type\n",
       "post_ipo_debt           168,704,571.82\n",
       "post_ipo_equity          82,182,493.87\n",
       "secondary_market         79,649,630.10\n",
       "private_equity           73,308,593.03\n",
       "undisclosed              19,242,370.23\n",
       "debt_financing           17,043,526.02\n",
       "venture                  11,748,949.13\n",
       "grant                     4,300,576.34\n",
       "convertible_note          1,453,438.54\n",
       "product_crowdfunding      1,363,131.07\n",
       "angel                       958,694.47\n",
       "seed                        719,818.00\n",
       "equity_crowdfunding         538,368.21\n",
       "non_equity_assistance       411,203.05\n",
       "Name: raised_amount_usd, dtype: float64"
      ]
     },
     "execution_count": 34,
     "metadata": {},
     "output_type": "execute_result"
    }
   ],
   "source": [
    "master_frame.groupby('funding_round_type')['raised_amount_usd'].mean().sort_values(ascending=False)\n",
    "# averages"
   ]
  },
  {
   "cell_type": "code",
   "execution_count": 35,
   "metadata": {},
   "outputs": [
    {
     "data": {
      "text/plain": [
       "funding_round_type\n",
       "secondary_market        32,600,000.00\n",
       "private_equity          20,000,000.00\n",
       "post_ipo_debt           19,950,000.00\n",
       "post_ipo_equity         12,262,852.50\n",
       "venture                  5,000,000.00\n",
       "debt_financing           1,100,000.00\n",
       "undisclosed              1,018,680.00\n",
       "angel                      400,000.00\n",
       "seed                       275,000.00\n",
       "convertible_note           272,000.00\n",
       "grant                      201,684.00\n",
       "product_crowdfunding       183,915.00\n",
       "equity_crowdfunding        100,000.00\n",
       "non_equity_assistance       60,000.00\n",
       "Name: raised_amount_usd, dtype: float64"
      ]
     },
     "execution_count": 35,
     "metadata": {},
     "output_type": "execute_result"
    }
   ],
   "source": [
    "master_frame.groupby('funding_round_type')['raised_amount_usd'].median().sort_values(ascending=False)"
   ]
  },
  {
   "cell_type": "code",
   "execution_count": 36,
   "metadata": {
    "scrolled": false
   },
   "outputs": [
    {
     "data": {
      "image/png": "[encoded data removed]",
      "text/plain": [
       "<Figure size 1800x1008 with 1 Axes>"
      ]
     },
     "metadata": {},
     "output_type": "display_data"
    }
   ],
   "source": [
    "#boxplot to show distribution of funding_round_type\n",
    "plt.figure(figsize=(25,14))\n",
    "sns.boxplot(x='funding_round_type', y='raised_amount_usd', data=master_frame)\n",
    "plt.yscale('log')\n",
    "plt.axhline(y=5000000, linewidth=2, color='r') #these lines represent the range of investment(5-15 million)\n",
    "plt.axhline(y=15000000, linewidth=2, color='r')\n",
    "plt.show()"
   ]
  },
  {
   "cell_type": "code",
   "execution_count": 37,
   "metadata": {},
   "outputs": [
    {
     "data": {
      "image/png": "[encoded data removed]",
      "text/plain": [
       "<Figure size 1296x1152 with 1 Axes>"
      ]
     },
     "metadata": {},
     "output_type": "display_data"
    }
   ],
   "source": [
    "# Plotting count across a categorical variable\n",
    "plt.figure(figsize=(18,16))\n",
    "sns.countplot(y=\"funding_round_type\", data=master_frame)\n",
    "plt.xscale('log')\n",
    "plt.show()"
   ]
  },
  {
   "cell_type": "markdown",
   "metadata": {},
   "source": [
    "The funding types such as __*seed, venture, angel*__, etc. depend on the type of the company (startup, corporate, etc.), its stage (early stage startup, funded startup, etc.), the amount of funding (a few million USD to a billion USD), and so on. For example, seed, angel and venture are three common stages of startup funding.\n",
    "\n",
    "__*Seed/angel*__ funding refer to early stage startups whereas venture funding occurs after seed or angel stage/s and involves a relatively higher amount of investment. Private equity type investments are associated with much larger companies and involve much higher investments than venture type. Startups which have grown in scale may also receive private equity funding. This means that if a company has reached the venture stage, it would have already passed through the angel or seed stage/s.\n",
    "\n",
    "Spark Funds wants to choose one of these four investment types for each potential investment they will make."
   ]
  },
  {
   "cell_type": "code",
   "execution_count": 38,
   "metadata": {},
   "outputs": [],
   "source": [
    "# Lets now restrict our master frame to only contain the 4 type of funding rounds\n",
    "master_frame = master_frame[master_frame['funding_round_type'].isin(\n",
    "    ['venture', 'angel', 'seed', 'private_equity'])]"
   ]
  },
  {
   "cell_type": "markdown",
   "metadata": {},
   "source": [
    "Calculating the most representative value of the investment amount for each of the four funding types (venture, angel, seed, and private equity) \n",
    "\n",
    "\n",
    "here we calculate mean and median."
   ]
  },
  {
   "cell_type": "code",
   "execution_count": 39,
   "metadata": {
    "scrolled": false
   },
   "outputs": [
    {
     "data": {
      "text/plain": [
       "funding_round_type\n",
       "private_equity   73,308,593.03\n",
       "venture          11,748,949.13\n",
       "angel               958,694.47\n",
       "seed                719,818.00\n",
       "Name: raised_amount_usd, dtype: float64"
      ]
     },
     "execution_count": 39,
     "metadata": {},
     "output_type": "execute_result"
    }
   ],
   "source": [
    "master_frame.groupby(by='funding_round_type')['raised_amount_usd'].mean().sort_values(ascending = False)"
   ]
  },
  {
   "cell_type": "code",
   "execution_count": 40,
   "metadata": {
    "scrolled": false
   },
   "outputs": [
    {
     "name": "stderr",
     "output_type": "stream",
     "text": [
      "C:\\Users\\Sheshu\\Anaconda3\\envs\\tensorflow\\lib\\site-packages\\scipy\\stats\\stats.py:1713: FutureWarning: Using a non-tuple sequence for multidimensional indexing is deprecated; use `arr[tuple(seq)]` instead of `arr[seq]`. In the future this will be interpreted as an array index, `arr[np.array(seq)]`, which will result either in an error or a different result.\n",
      "  return np.add.reduce(sorted[indexer] * weights, axis=axis) / sumval\n"
     ]
    },
    {
     "data": {
      "image/png": "[encoded data removed]",
      "text/plain": [
       "<Figure size 1080x504 with 2 Axes>"
      ]
     },
     "metadata": {},
     "output_type": "display_data"
    }
   ],
   "source": [
    "# boxplot of a variable across various funding categories\n",
    "plt.figure(figsize=(15, 7))\n",
    "\n",
    "plt.subplot(1,2,1)\n",
    "sns.countplot(x='funding_round_type', data=master_frame)\n",
    "plt.title('Count of investments')\n",
    "\n",
    "plt.subplot(1,2,2)\n",
    "sns.barplot(x='funding_round_type', y= 'raised_amount_usd', data=master_frame, estimator=np.sum)\n",
    "plt.title('sum of total investments')\n",
    "plt.show()"
   ]
  },
  {
   "cell_type": "code",
   "execution_count": 41,
   "metadata": {},
   "outputs": [
    {
     "name": "stderr",
     "output_type": "stream",
     "text": [
      "C:\\Users\\Sheshu\\Anaconda3\\envs\\tensorflow\\lib\\site-packages\\scipy\\stats\\stats.py:1713: FutureWarning: Using a non-tuple sequence for multidimensional indexing is deprecated; use `arr[tuple(seq)]` instead of `arr[seq]`. In the future this will be interpreted as an array index, `arr[np.array(seq)]`, which will result either in an error or a different result.\n",
      "  return np.add.reduce(sorted[indexer] * weights, axis=axis) / sumval\n"
     ]
    },
    {
     "data": {
      "image/png": "[encoded data removed]",
      "text/plain": [
       "<Figure size 864x432 with 2 Axes>"
      ]
     },
     "metadata": {},
     "output_type": "display_data"
    }
   ],
   "source": [
    "# Create 2 subplots for mean and median respectively\n",
    "\n",
    "# increase figure size \n",
    "plt.figure(figsize=(12, 6))\n",
    "\n",
    "# subplot 1: statistic=mean\n",
    "plt.subplot(1, 2, 1)\n",
    "sns.barplot(x='funding_round_type', y='raised_amount_usd', data=master_frame)\n",
    "plt.title(\"Average\")\n",
    "plt.axhline(y=5000000, linewidth=2, color='r') #lower limit of investment - 5000000 USD\n",
    "plt.axhline(y=15000000, linewidth=2, color='r') #upper limit of investment - 15000000 USD\n",
    "\n",
    "# subplot 2: statistic=median\n",
    "plt.subplot(1, 2, 2)\n",
    "sns.barplot(x='funding_round_type', y='raised_amount_usd', data=master_frame, estimator=np.median)\n",
    "plt.title(\"Median\")\n",
    "plt.axhline(y=5000000, linewidth=2, color='r') #lower limit of investment - 5000000 USD\n",
    "plt.axhline(y=15000000, linewidth=2, color='r') #upper limit of investment - 15000000 USD\n",
    "\n",
    "plt.show()"
   ]
  },
  {
   "cell_type": "markdown",
   "metadata": {},
   "source": [
    "from the above observation we can deduce that __Venture__ type funding is best suited among others for spark funds requirements. As it falls within the investment bracket of __5 to 15 Million USD__ and also most of the investments are made in this type."
   ]
  },
  {
   "cell_type": "code",
   "execution_count": 42,
   "metadata": {},
   "outputs": [
    {
     "data": {
      "text/html": [
       "<div>\n",
       "<style scoped>\n",
       "    .dataframe tbody tr th:only-of-type {\n",
       "        vertical-align: middle;\n",
       "    }\n",
       "\n",
       "    .dataframe tbody tr th {\n",
       "        vertical-align: top;\n",
       "    }\n",
       "\n",
       "    .dataframe thead th {\n",
       "        text-align: right;\n",
       "    }\n",
       "</style>\n",
       "<table border=\"1\" class=\"dataframe\">\n",
       "  <thead>\n",
       "    <tr style=\"text-align: right;\">\n",
       "      <th></th>\n",
       "      <th>raised_amount_usd</th>\n",
       "    </tr>\n",
       "  </thead>\n",
       "  <tbody>\n",
       "    <tr>\n",
       "      <th>count</th>\n",
       "      <td>50,228.00</td>\n",
       "    </tr>\n",
       "    <tr>\n",
       "      <th>mean</th>\n",
       "      <td>11,748,949.13</td>\n",
       "    </tr>\n",
       "    <tr>\n",
       "      <th>std</th>\n",
       "      <td>86,352,066.56</td>\n",
       "    </tr>\n",
       "    <tr>\n",
       "      <th>min</th>\n",
       "      <td>0.00</td>\n",
       "    </tr>\n",
       "    <tr>\n",
       "      <th>25%</th>\n",
       "      <td>1,600,901.75</td>\n",
       "    </tr>\n",
       "    <tr>\n",
       "      <th>50%</th>\n",
       "      <td>5,000,000.00</td>\n",
       "    </tr>\n",
       "    <tr>\n",
       "      <th>75%</th>\n",
       "      <td>12,000,000.00</td>\n",
       "    </tr>\n",
       "    <tr>\n",
       "      <th>max</th>\n",
       "      <td>17,600,000,000.00</td>\n",
       "    </tr>\n",
       "  </tbody>\n",
       "</table>\n",
       "</div>"
      ],
      "text/plain": [
       "       raised_amount_usd\n",
       "count          50,228.00\n",
       "mean       11,748,949.13\n",
       "std        86,352,066.56\n",
       "min                 0.00\n",
       "25%         1,600,901.75\n",
       "50%         5,000,000.00\n",
       "75%        12,000,000.00\n",
       "max    17,600,000,000.00"
      ]
     },
     "execution_count": 42,
     "metadata": {},
     "output_type": "execute_result"
    }
   ],
   "source": [
    "# Let's limit our data to only include venture type\n",
    "master_frame = master_frame[master_frame['funding_round_type']=='venture']\n",
    "master_frame.describe()"
   ]
  },
  {
   "cell_type": "markdown",
   "metadata": {},
   "source": [
    "### Country Analysis"
   ]
  },
  {
   "cell_type": "code",
   "execution_count": 43,
   "metadata": {},
   "outputs": [
    {
     "data": {
      "text/plain": [
       "country_code\n",
       "USA       422,510,842,796.00\n",
       "CHN        39,835,418,773.00\n",
       "Unknown    25,506,108,414.00\n",
       "GBR        20,245,627,416.00\n",
       "IND        14,391,858,718.00\n",
       "CAN         9,583,332,317.00\n",
       "FRA         7,259,536,732.00\n",
       "ISR         6,907,514,579.00\n",
       "DEU         6,346,959,822.00\n",
       "JPN         3,363,676,611.00\n",
       "Name: raised_amount_usd, dtype: float64"
      ]
     },
     "execution_count": 43,
     "metadata": {},
     "output_type": "execute_result"
    }
   ],
   "source": [
    "#Total investment amount raised for Venture type funding in each country\n",
    "master_frame.groupby(by='country_code')['raised_amount_usd'].sum().sort_values(ascending = False)[0:10]"
   ]
  },
  {
   "cell_type": "markdown",
   "metadata": {},
   "source": [
    "Spark funds wants to invest in countries with the highest amount of funding for the chosen investment type. "
   ]
  },
  {
   "cell_type": "code",
   "execution_count": 44,
   "metadata": {
    "scrolled": true
   },
   "outputs": [],
   "source": [
    "#sorted list of names of countries based on highest total amount\n",
    "names_of_top9 = ['USA', 'CHN', 'GBR', 'IND', 'CAN', 'FRA', 'ISR', 'DEU', 'JPN' ]"
   ]
  },
  {
   "cell_type": "code",
   "execution_count": 45,
   "metadata": {},
   "outputs": [],
   "source": [
    "# Filtering top 9 countries based on the total investment amount\n",
    "top9_countries = master_frame[master_frame['country_code'].isin(names_of_top9)]"
   ]
  },
  {
   "cell_type": "markdown",
   "metadata": {},
   "source": [
    "#### Identify the top three English-speaking countries"
   ]
  },
  {
   "cell_type": "code",
   "execution_count": 46,
   "metadata": {},
   "outputs": [
    {
     "name": "stderr",
     "output_type": "stream",
     "text": [
      "C:\\Users\\Sheshu\\Anaconda3\\envs\\tensorflow\\lib\\site-packages\\scipy\\stats\\stats.py:1713: FutureWarning: Using a non-tuple sequence for multidimensional indexing is deprecated; use `arr[tuple(seq)]` instead of `arr[seq]`. In the future this will be interpreted as an array index, `arr[np.array(seq)]`, which will result either in an error or a different result.\n",
      "  return np.add.reduce(sorted[indexer] * weights, axis=axis) / sumval\n"
     ]
    },
    {
     "data": {
      "image/png": "[encoded data removed]",
      "text/plain": [
       "<Figure size 1440x720 with 2 Axes>"
      ]
     },
     "metadata": {},
     "output_type": "display_data"
    }
   ],
   "source": [
    "# Plotting sum across top 9 country_code\n",
    "plt.figure(figsize=(20, 10))\n",
    "plt.subplot(1, 2, 1)\n",
    "sns.countplot(x=\"country_code\", data=top9_countries, order=list(top9_countries.groupby(\n",
    "    by='country_code').raised_amount_usd.count().sort_values(ascending=False).index))\n",
    "plt.yscale('log')\n",
    "plt.title(\"Count of investments\")\n",
    "\n",
    "\n",
    "plt.subplot(1, 2, 2)\n",
    "sns.barplot(x=\"country_code\", y=\"raised_amount_usd\",\n",
    "            data=top9_countries, estimator=sum, order=names_of_top9)\n",
    "plt.yscale('log')\n",
    "plt.title(\"Sum of investments\")\n",
    "plt.show()"
   ]
  },
  {
   "cell_type": "markdown",
   "metadata": {},
   "source": [
    "list of countries where english is the official language"
   ]
  },
  {
   "cell_type": "code",
   "execution_count": 47,
   "metadata": {},
   "outputs": [],
   "source": [
    "pdfFileObj = open(file4, 'rb')\n",
    "pdfReader = PyPDF2.PdfFileReader(pdfFileObj)"
   ]
  },
  {
   "cell_type": "code",
   "execution_count": 48,
   "metadata": {},
   "outputs": [
    {
     "data": {
      "text/plain": [
       "'ListofcountrieswhereEnglishisanofficiallanguage\\nAfricaBotswanaCameroonEthiopiaEritrea\\nTheGambiaGhanaKenyaLesothoLiberiaMalawiMauritiusNamibiaNigeriaRwandaSeychellesSierraLeone\\nSouthAfricaSouthSudanSudanSwazilandTanzaniaUgandaZambiaZimbabwe\\nAmericasAntiguaandBarbudaTheBahamas\\nBarbadosBelizeCanadaDominicaGrenadaGuyanaJamaicaSaintKittsandNevisSaintLuciaSaintVincentandtheGrenadinesTrinidadandTobago\\nUnitedStates\\n\\nAsiaIndiaPakistanPhilippinesSingaporeAustralia/OceaniaAustraliaFijiKiribatiMarshallIslandsFederatedStates\\nofMicronesiaNauruNewZealand\\nPalauPapuaNewGuineaSamoaSolomonIslands\\nTongaTuvaluVanuatu\\nEuropeIrelandMaltaUnitedKingdom\\n'"
      ]
     },
     "execution_count": 48,
     "metadata": {},
     "output_type": "execute_result"
    }
   ],
   "source": [
    "pageObj = pdfReader.getPage(0)\n",
    "page1 = pageObj.extractText()\n",
    "page1"
   ]
  },
  {
   "cell_type": "code",
   "execution_count": 49,
   "metadata": {},
   "outputs": [],
   "source": [
    "# strip away page header\n",
    "page1 = page1[47:]\n",
    "\n",
    "#replacing new line characters \n",
    "page1 = page1.replace('\\n \\n',', ').replace('\\n','')"
   ]
  },
  {
   "cell_type": "code",
   "execution_count": 50,
   "metadata": {},
   "outputs": [],
   "source": [
    "#getting the list of all countries from pycountries module\n",
    "c = list(pycountry.countries)\n",
    "cname = [c[i].name for i in range(0, len(c))]"
   ]
  },
  {
   "cell_type": "code",
   "execution_count": 51,
   "metadata": {},
   "outputs": [],
   "source": [
    "#filter out countries where english is the official language\n",
    "c_eng = list(filter(lambda x: x in page1, cname))"
   ]
  },
  {
   "cell_type": "code",
   "execution_count": 52,
   "metadata": {
    "scrolled": true
   },
   "outputs": [
    {
     "name": "stdout",
     "output_type": "stream",
     "text": [
      "['Australia', 'Bahamas', 'Belize', 'Barbados', 'Botswana', 'Canada', 'Cameroon', 'Dominica', 'Eritrea', 'Ethiopia', 'Fiji', 'Ghana', 'Guinea', 'Gambia', 'Grenada', 'Guyana', 'India', 'Ireland', 'Jamaica', 'Kenya', 'Kiribati', 'Liberia', 'Lesotho', 'Malta', 'Mauritius', 'Malawi', 'Namibia', 'Niger', 'Nigeria', 'Nauru', 'Pakistan', 'Philippines', 'Palau', 'Rwanda', 'Sudan', 'Singapore', 'Swaziland', 'Seychelles', 'Tonga', 'Tuvalu', 'Uganda', 'Vanuatu', 'Samoa', 'Zambia', 'Zimbabwe']\n"
     ]
    }
   ],
   "source": [
    "print(c_eng)"
   ]
  },
  {
   "cell_type": "code",
   "execution_count": 53,
   "metadata": {},
   "outputs": [
    {
     "data": {
      "text/plain": [
       "['United States',\n",
       " 'China',\n",
       " 'United Kingdom',\n",
       " 'India',\n",
       " 'Canada',\n",
       " 'France',\n",
       " 'Israel',\n",
       " 'Germany',\n",
       " 'Japan']"
      ]
     },
     "execution_count": 53,
     "metadata": {},
     "output_type": "execute_result"
    }
   ],
   "source": [
    "#Names of top 9 countries with highest funding\n",
    "list(map(lambda x : pycountry.countries.get(alpha_3 = x).name, names_of_top9))"
   ]
  },
  {
   "cell_type": "markdown",
   "metadata": {},
   "source": [
    "After the analysis above and comparing the list with dataframe __top 9_countries__, we get the following top 3 countries with highest investments and english as official language\n",
    "\n",
    "1. __USA__\n",
    "2. __GBR__\n",
    "3. __IND__\n"
   ]
  },
  {
   "cell_type": "markdown",
   "metadata": {},
   "source": [
    "###  Sector Analysis 1"
   ]
  },
  {
   "cell_type": "code",
   "execution_count": 54,
   "metadata": {},
   "outputs": [],
   "source": [
    "#create a new data frame with only these 3 countires data for furthur sector wise analysis\n",
    "top3_english = top9_countries[top9_countries['country_code'].isin(['USA', 'GBR', 'IND'])]"
   ]
  },
  {
   "cell_type": "code",
   "execution_count": 55,
   "metadata": {},
   "outputs": [
    {
     "data": {
      "text/html": [
       "<div>\n",
       "<style scoped>\n",
       "    .dataframe tbody tr th:only-of-type {\n",
       "        vertical-align: middle;\n",
       "    }\n",
       "\n",
       "    .dataframe tbody tr th {\n",
       "        vertical-align: top;\n",
       "    }\n",
       "\n",
       "    .dataframe thead th {\n",
       "        text-align: right;\n",
       "    }\n",
       "</style>\n",
       "<table border=\"1\" class=\"dataframe\">\n",
       "  <thead>\n",
       "    <tr style=\"text-align: right;\">\n",
       "      <th></th>\n",
       "      <th>category_list</th>\n",
       "      <th>Automotive &amp; Sports</th>\n",
       "      <th>Blanks</th>\n",
       "      <th>Cleantech / Semiconductors</th>\n",
       "      <th>Entertainment</th>\n",
       "      <th>Health</th>\n",
       "      <th>Manufacturing</th>\n",
       "      <th>News, Search and Messaging</th>\n",
       "      <th>Others</th>\n",
       "      <th>Social, Finance, Analytics, Advertising</th>\n",
       "    </tr>\n",
       "  </thead>\n",
       "  <tbody>\n",
       "    <tr>\n",
       "      <th>196</th>\n",
       "      <td>Digital Entertainment</td>\n",
       "      <td>0</td>\n",
       "      <td>0</td>\n",
       "      <td>0</td>\n",
       "      <td>1</td>\n",
       "      <td>0</td>\n",
       "      <td>0</td>\n",
       "      <td>0</td>\n",
       "      <td>0</td>\n",
       "      <td>0</td>\n",
       "    </tr>\n",
       "    <tr>\n",
       "      <th>523</th>\n",
       "      <td>Photo Sharing</td>\n",
       "      <td>0</td>\n",
       "      <td>0</td>\n",
       "      <td>0</td>\n",
       "      <td>1</td>\n",
       "      <td>0</td>\n",
       "      <td>0</td>\n",
       "      <td>0</td>\n",
       "      <td>0</td>\n",
       "      <td>0</td>\n",
       "    </tr>\n",
       "    <tr>\n",
       "      <th>357</th>\n",
       "      <td>Incentives</td>\n",
       "      <td>0</td>\n",
       "      <td>0</td>\n",
       "      <td>0</td>\n",
       "      <td>0</td>\n",
       "      <td>0</td>\n",
       "      <td>0</td>\n",
       "      <td>0</td>\n",
       "      <td>0</td>\n",
       "      <td>1</td>\n",
       "    </tr>\n",
       "    <tr>\n",
       "      <th>333</th>\n",
       "      <td>High School Students</td>\n",
       "      <td>0</td>\n",
       "      <td>0</td>\n",
       "      <td>0</td>\n",
       "      <td>0</td>\n",
       "      <td>0</td>\n",
       "      <td>0</td>\n",
       "      <td>0</td>\n",
       "      <td>1</td>\n",
       "      <td>0</td>\n",
       "    </tr>\n",
       "    <tr>\n",
       "      <th>414</th>\n",
       "      <td>Local Businesses</td>\n",
       "      <td>0</td>\n",
       "      <td>0</td>\n",
       "      <td>0</td>\n",
       "      <td>0</td>\n",
       "      <td>0</td>\n",
       "      <td>0</td>\n",
       "      <td>0</td>\n",
       "      <td>1</td>\n",
       "      <td>0</td>\n",
       "    </tr>\n",
       "  </tbody>\n",
       "</table>\n",
       "</div>"
      ],
      "text/plain": [
       "             category_list  Automotive & Sports  Blanks  \\\n",
       "196  Digital Entertainment                    0       0   \n",
       "523          Photo Sharing                    0       0   \n",
       "357             Incentives                    0       0   \n",
       "333   High School Students                    0       0   \n",
       "414       Local Businesses                    0       0   \n",
       "\n",
       "     Cleantech / Semiconductors  Entertainment  Health  Manufacturing  \\\n",
       "196                           0              1       0              0   \n",
       "523                           0              1       0              0   \n",
       "357                           0              0       0              0   \n",
       "333                           0              0       0              0   \n",
       "414                           0              0       0              0   \n",
       "\n",
       "     News, Search and Messaging  Others  \\\n",
       "196                           0       0   \n",
       "523                           0       0   \n",
       "357                           0       0   \n",
       "333                           0       1   \n",
       "414                           0       1   \n",
       "\n",
       "     Social, Finance, Analytics, Advertising  \n",
       "196                                        0  \n",
       "523                                        0  \n",
       "357                                        1  \n",
       "333                                        0  \n",
       "414                                        0  "
      ]
     },
     "execution_count": 55,
     "metadata": {},
     "output_type": "execute_result"
    }
   ],
   "source": [
    "df_sector_mapping.sample(5)"
   ]
  },
  {
   "cell_type": "markdown",
   "metadata": {},
   "source": [
    "from visual analysis it can be seen that some values in the categories_list are not proper. the string  __'na'__ is replaced with __'0'__"
   ]
  },
  {
   "cell_type": "code",
   "execution_count": 56,
   "metadata": {},
   "outputs": [],
   "source": [
    "#cleaning the names in category_list\n",
    "df_sector_mapping.category_list = df_sector_mapping.category_list.apply(lambda x : str(x).strip().upper().replace('0', 'NA'))"
   ]
  },
  {
   "cell_type": "code",
   "execution_count": 57,
   "metadata": {
    "scrolled": true
   },
   "outputs": [
    {
     "data": {
      "text/html": [
       "<div>\n",
       "<style scoped>\n",
       "    .dataframe tbody tr th:only-of-type {\n",
       "        vertical-align: middle;\n",
       "    }\n",
       "\n",
       "    .dataframe tbody tr th {\n",
       "        vertical-align: top;\n",
       "    }\n",
       "\n",
       "    .dataframe thead th {\n",
       "        text-align: right;\n",
       "    }\n",
       "</style>\n",
       "<table border=\"1\" class=\"dataframe\">\n",
       "  <thead>\n",
       "    <tr style=\"text-align: right;\">\n",
       "      <th></th>\n",
       "      <th>category_list</th>\n",
       "      <th>Automotive &amp; Sports</th>\n",
       "      <th>Blanks</th>\n",
       "      <th>Cleantech / Semiconductors</th>\n",
       "      <th>Entertainment</th>\n",
       "      <th>Health</th>\n",
       "      <th>Manufacturing</th>\n",
       "      <th>News, Search and Messaging</th>\n",
       "      <th>Others</th>\n",
       "      <th>Social, Finance, Analytics, Advertising</th>\n",
       "    </tr>\n",
       "  </thead>\n",
       "  <tbody>\n",
       "    <tr>\n",
       "      <th>391</th>\n",
       "      <td>JOURNALISM</td>\n",
       "      <td>0</td>\n",
       "      <td>0</td>\n",
       "      <td>0</td>\n",
       "      <td>0</td>\n",
       "      <td>0</td>\n",
       "      <td>0</td>\n",
       "      <td>1</td>\n",
       "      <td>0</td>\n",
       "      <td>0</td>\n",
       "    </tr>\n",
       "    <tr>\n",
       "      <th>344</th>\n",
       "      <td>HOSPITALS</td>\n",
       "      <td>0</td>\n",
       "      <td>0</td>\n",
       "      <td>0</td>\n",
       "      <td>0</td>\n",
       "      <td>1</td>\n",
       "      <td>0</td>\n",
       "      <td>0</td>\n",
       "      <td>0</td>\n",
       "      <td>0</td>\n",
       "    </tr>\n",
       "    <tr>\n",
       "      <th>598</th>\n",
       "      <td>SKILL ASSESSMENT</td>\n",
       "      <td>0</td>\n",
       "      <td>0</td>\n",
       "      <td>0</td>\n",
       "      <td>0</td>\n",
       "      <td>0</td>\n",
       "      <td>0</td>\n",
       "      <td>0</td>\n",
       "      <td>1</td>\n",
       "      <td>0</td>\n",
       "    </tr>\n",
       "    <tr>\n",
       "      <th>546</th>\n",
       "      <td>PROFESSIONAL NETWORKING</td>\n",
       "      <td>0</td>\n",
       "      <td>0</td>\n",
       "      <td>0</td>\n",
       "      <td>0</td>\n",
       "      <td>0</td>\n",
       "      <td>0</td>\n",
       "      <td>1</td>\n",
       "      <td>0</td>\n",
       "      <td>0</td>\n",
       "    </tr>\n",
       "    <tr>\n",
       "      <th>333</th>\n",
       "      <td>HIGH SCHOOL STUDENTS</td>\n",
       "      <td>0</td>\n",
       "      <td>0</td>\n",
       "      <td>0</td>\n",
       "      <td>0</td>\n",
       "      <td>0</td>\n",
       "      <td>0</td>\n",
       "      <td>0</td>\n",
       "      <td>1</td>\n",
       "      <td>0</td>\n",
       "    </tr>\n",
       "    <tr>\n",
       "      <th>485</th>\n",
       "      <td>OFFICE SPACE</td>\n",
       "      <td>0</td>\n",
       "      <td>0</td>\n",
       "      <td>0</td>\n",
       "      <td>0</td>\n",
       "      <td>0</td>\n",
       "      <td>0</td>\n",
       "      <td>0</td>\n",
       "      <td>1</td>\n",
       "      <td>0</td>\n",
       "    </tr>\n",
       "    <tr>\n",
       "      <th>302</th>\n",
       "      <td>GAY &amp; LESBIAN</td>\n",
       "      <td>0</td>\n",
       "      <td>0</td>\n",
       "      <td>0</td>\n",
       "      <td>0</td>\n",
       "      <td>0</td>\n",
       "      <td>0</td>\n",
       "      <td>0</td>\n",
       "      <td>1</td>\n",
       "      <td>0</td>\n",
       "    </tr>\n",
       "    <tr>\n",
       "      <th>219</th>\n",
       "      <td>EDA TOOLS</td>\n",
       "      <td>0</td>\n",
       "      <td>0</td>\n",
       "      <td>0</td>\n",
       "      <td>0</td>\n",
       "      <td>0</td>\n",
       "      <td>0</td>\n",
       "      <td>0</td>\n",
       "      <td>1</td>\n",
       "      <td>0</td>\n",
       "    </tr>\n",
       "    <tr>\n",
       "      <th>311</th>\n",
       "      <td>GOVERNMENT INNOVATION</td>\n",
       "      <td>0</td>\n",
       "      <td>0</td>\n",
       "      <td>0</td>\n",
       "      <td>0</td>\n",
       "      <td>0</td>\n",
       "      <td>0</td>\n",
       "      <td>0</td>\n",
       "      <td>1</td>\n",
       "      <td>0</td>\n",
       "    </tr>\n",
       "    <tr>\n",
       "      <th>518</th>\n",
       "      <td>PERSONALIZATION</td>\n",
       "      <td>0</td>\n",
       "      <td>0</td>\n",
       "      <td>0</td>\n",
       "      <td>0</td>\n",
       "      <td>0</td>\n",
       "      <td>0</td>\n",
       "      <td>0</td>\n",
       "      <td>1</td>\n",
       "      <td>0</td>\n",
       "    </tr>\n",
       "  </tbody>\n",
       "</table>\n",
       "</div>"
      ],
      "text/plain": [
       "               category_list  Automotive & Sports  Blanks  \\\n",
       "391               JOURNALISM                    0       0   \n",
       "344                HOSPITALS                    0       0   \n",
       "598         SKILL ASSESSMENT                    0       0   \n",
       "546  PROFESSIONAL NETWORKING                    0       0   \n",
       "333     HIGH SCHOOL STUDENTS                    0       0   \n",
       "485             OFFICE SPACE                    0       0   \n",
       "302            GAY & LESBIAN                    0       0   \n",
       "219                EDA TOOLS                    0       0   \n",
       "311    GOVERNMENT INNOVATION                    0       0   \n",
       "518          PERSONALIZATION                    0       0   \n",
       "\n",
       "     Cleantech / Semiconductors  Entertainment  Health  Manufacturing  \\\n",
       "391                           0              0       0              0   \n",
       "344                           0              0       1              0   \n",
       "598                           0              0       0              0   \n",
       "546                           0              0       0              0   \n",
       "333                           0              0       0              0   \n",
       "485                           0              0       0              0   \n",
       "302                           0              0       0              0   \n",
       "219                           0              0       0              0   \n",
       "311                           0              0       0              0   \n",
       "518                           0              0       0              0   \n",
       "\n",
       "     News, Search and Messaging  Others  \\\n",
       "391                           1       0   \n",
       "344                           0       0   \n",
       "598                           0       1   \n",
       "546                           1       0   \n",
       "333                           0       1   \n",
       "485                           0       1   \n",
       "302                           0       1   \n",
       "219                           0       1   \n",
       "311                           0       1   \n",
       "518                           0       1   \n",
       "\n",
       "     Social, Finance, Analytics, Advertising  \n",
       "391                                        0  \n",
       "344                                        0  \n",
       "598                                        0  \n",
       "546                                        0  \n",
       "333                                        0  \n",
       "485                                        0  \n",
       "302                                        0  \n",
       "219                                        0  \n",
       "311                                        0  \n",
       "518                                        0  "
      ]
     },
     "execution_count": 57,
     "metadata": {},
     "output_type": "execute_result"
    }
   ],
   "source": [
    "df_sector_mapping.sample(10)"
   ]
  },
  {
   "cell_type": "code",
   "execution_count": 58,
   "metadata": {},
   "outputs": [
    {
     "data": {
      "text/plain": [
       "Index(['category_list', 'Automotive & Sports', 'Blanks',\n",
       "       'Cleantech / Semiconductors', 'Entertainment', 'Health',\n",
       "       'Manufacturing', 'News, Search and Messaging', 'Others',\n",
       "       'Social, Finance, Analytics, Advertising'],\n",
       "      dtype='object')"
      ]
     },
     "execution_count": 58,
     "metadata": {},
     "output_type": "execute_result"
    }
   ],
   "source": [
    "df_sector_mapping.columns"
   ]
  },
  {
   "cell_type": "code",
   "execution_count": 59,
   "metadata": {},
   "outputs": [],
   "source": [
    "# major sectors\n",
    "sectors = ['Automotive & Sports', 'Cleantech / Semiconductors', 'Entertainment', 'Health',\n",
    "           'Manufacturing', 'News, Search and Messaging', 'Others',\n",
    "           'Social, Finance, Analytics, Advertising']"
   ]
  },
  {
   "cell_type": "code",
   "execution_count": 60,
   "metadata": {},
   "outputs": [],
   "source": [
    "#converting the columns as row values\n",
    "df_sector_mapping = df_sector_mapping.melt(id_vars=['category_list'], value_vars=sectors)"
   ]
  },
  {
   "cell_type": "code",
   "execution_count": 61,
   "metadata": {},
   "outputs": [],
   "source": [
    "df_sector_mapping = df_sector_mapping[df_sector_mapping['value'] == 1]"
   ]
  },
  {
   "cell_type": "code",
   "execution_count": 62,
   "metadata": {
    "scrolled": true
   },
   "outputs": [
    {
     "data": {
      "text/html": [
       "<div>\n",
       "<style scoped>\n",
       "    .dataframe tbody tr th:only-of-type {\n",
       "        vertical-align: middle;\n",
       "    }\n",
       "\n",
       "    .dataframe tbody tr th {\n",
       "        vertical-align: top;\n",
       "    }\n",
       "\n",
       "    .dataframe thead th {\n",
       "        text-align: right;\n",
       "    }\n",
       "</style>\n",
       "<table border=\"1\" class=\"dataframe\">\n",
       "  <thead>\n",
       "    <tr style=\"text-align: right;\">\n",
       "      <th></th>\n",
       "      <th>category_list</th>\n",
       "      <th>variable</th>\n",
       "      <th>value</th>\n",
       "    </tr>\n",
       "  </thead>\n",
       "  <tbody>\n",
       "    <tr>\n",
       "      <th>4522</th>\n",
       "      <td>KNOWLEDGE MANAGEMENT</td>\n",
       "      <td>Others</td>\n",
       "      <td>1</td>\n",
       "    </tr>\n",
       "    <tr>\n",
       "      <th>5183</th>\n",
       "      <td>INFORMATION TECHNOLOGY</td>\n",
       "      <td>Social, Finance, Analytics, Advertising</td>\n",
       "      <td>1</td>\n",
       "    </tr>\n",
       "    <tr>\n",
       "      <th>4248</th>\n",
       "      <td>COLLEGE CAMPUSES</td>\n",
       "      <td>Others</td>\n",
       "      <td>1</td>\n",
       "    </tr>\n",
       "    <tr>\n",
       "      <th>5421</th>\n",
       "      <td>SOCIAL BUSINESS</td>\n",
       "      <td>Social, Finance, Analytics, Advertising</td>\n",
       "      <td>1</td>\n",
       "    </tr>\n",
       "    <tr>\n",
       "      <th>4842</th>\n",
       "      <td>ANYTHING CAPITAL INTENSIVE</td>\n",
       "      <td>Social, Finance, Analytics, Advertising</td>\n",
       "      <td>1</td>\n",
       "    </tr>\n",
       "  </tbody>\n",
       "</table>\n",
       "</div>"
      ],
      "text/plain": [
       "                   category_list                                 variable  \\\n",
       "4522        KNOWLEDGE MANAGEMENT                                   Others   \n",
       "5183      INFORMATION TECHNOLOGY  Social, Finance, Analytics, Advertising   \n",
       "4248            COLLEGE CAMPUSES                                   Others   \n",
       "5421             SOCIAL BUSINESS  Social, Finance, Analytics, Advertising   \n",
       "4842  ANYTHING CAPITAL INTENSIVE  Social, Finance, Analytics, Advertising   \n",
       "\n",
       "      value  \n",
       "4522      1  \n",
       "5183      1  \n",
       "4248      1  \n",
       "5421      1  \n",
       "4842      1  "
      ]
     },
     "execution_count": 62,
     "metadata": {},
     "output_type": "execute_result"
    }
   ],
   "source": [
    "df_sector_mapping.sample(5)"
   ]
  },
  {
   "cell_type": "code",
   "execution_count": 63,
   "metadata": {},
   "outputs": [],
   "source": [
    "#dropping additional column\n",
    "df_sector_mapping.drop('value', axis = 'columns', inplace = True)"
   ]
  },
  {
   "cell_type": "code",
   "execution_count": 64,
   "metadata": {},
   "outputs": [],
   "source": [
    "#renaming columns\n",
    "df_sector_mapping.rename(columns={'category_list':'primary_sector', 'variable':'main_sector'}, inplace = True)"
   ]
  },
  {
   "cell_type": "code",
   "execution_count": 65,
   "metadata": {
    "scrolled": true
   },
   "outputs": [
    {
     "data": {
      "text/html": [
       "<div>\n",
       "<style scoped>\n",
       "    .dataframe tbody tr th:only-of-type {\n",
       "        vertical-align: middle;\n",
       "    }\n",
       "\n",
       "    .dataframe tbody tr th {\n",
       "        vertical-align: top;\n",
       "    }\n",
       "\n",
       "    .dataframe thead th {\n",
       "        text-align: right;\n",
       "    }\n",
       "</style>\n",
       "<table border=\"1\" class=\"dataframe\">\n",
       "  <thead>\n",
       "    <tr style=\"text-align: right;\">\n",
       "      <th></th>\n",
       "      <th>primary_sector</th>\n",
       "      <th>main_sector</th>\n",
       "    </tr>\n",
       "  </thead>\n",
       "  <tbody>\n",
       "    <tr>\n",
       "      <th>8</th>\n",
       "      <td>ADVENTURE TRAVEL</td>\n",
       "      <td>Automotive &amp; Sports</td>\n",
       "    </tr>\n",
       "    <tr>\n",
       "      <th>14</th>\n",
       "      <td>AEROSPACE</td>\n",
       "      <td>Automotive &amp; Sports</td>\n",
       "    </tr>\n",
       "    <tr>\n",
       "      <th>45</th>\n",
       "      <td>AUTO</td>\n",
       "      <td>Automotive &amp; Sports</td>\n",
       "    </tr>\n",
       "    <tr>\n",
       "      <th>46</th>\n",
       "      <td>AUTOMATED KIOSK</td>\n",
       "      <td>Automotive &amp; Sports</td>\n",
       "    </tr>\n",
       "    <tr>\n",
       "      <th>47</th>\n",
       "      <td>AUTOMOTIVE</td>\n",
       "      <td>Automotive &amp; Sports</td>\n",
       "    </tr>\n",
       "    <tr>\n",
       "      <th>57</th>\n",
       "      <td>BICYCLES</td>\n",
       "      <td>Automotive &amp; Sports</td>\n",
       "    </tr>\n",
       "    <tr>\n",
       "      <th>69</th>\n",
       "      <td>BOATING INDUSTRY</td>\n",
       "      <td>Automotive &amp; Sports</td>\n",
       "    </tr>\n",
       "    <tr>\n",
       "      <th>87</th>\n",
       "      <td>CAD</td>\n",
       "      <td>Automotive &amp; Sports</td>\n",
       "    </tr>\n",
       "    <tr>\n",
       "      <th>93</th>\n",
       "      <td>CARS</td>\n",
       "      <td>Automotive &amp; Sports</td>\n",
       "    </tr>\n",
       "    <tr>\n",
       "      <th>188</th>\n",
       "      <td>DESIGN</td>\n",
       "      <td>Automotive &amp; Sports</td>\n",
       "    </tr>\n",
       "  </tbody>\n",
       "</table>\n",
       "</div>"
      ],
      "text/plain": [
       "       primary_sector          main_sector\n",
       "8    ADVENTURE TRAVEL  Automotive & Sports\n",
       "14          AEROSPACE  Automotive & Sports\n",
       "45               AUTO  Automotive & Sports\n",
       "46    AUTOMATED KIOSK  Automotive & Sports\n",
       "47         AUTOMOTIVE  Automotive & Sports\n",
       "57           BICYCLES  Automotive & Sports\n",
       "69   BOATING INDUSTRY  Automotive & Sports\n",
       "87                CAD  Automotive & Sports\n",
       "93               CARS  Automotive & Sports\n",
       "188            DESIGN  Automotive & Sports"
      ]
     },
     "execution_count": 65,
     "metadata": {},
     "output_type": "execute_result"
    }
   ],
   "source": [
    "df_sector_mapping.head(10)"
   ]
  },
  {
   "cell_type": "code",
   "execution_count": 66,
   "metadata": {},
   "outputs": [
    {
     "name": "stderr",
     "output_type": "stream",
     "text": [
      "SettingWithCopyWarning: \n",
      "A value is trying to be set on a copy of a slice from a DataFrame.\n",
      "Try using .loc[row_indexer,col_indexer] = value instead\n",
      "\n",
      "See the caveats in the documentation: http://pandas.pydata.org/pandas-docs/stable/indexing.html#indexing-view-versus-copy [ipykernel_launcher.py:2]\n"
     ]
    }
   ],
   "source": [
    "#filtering primary sector from categories_list of top3 english countries.\n",
    "top3_english['primary_sector'] = top3_english['category_list'].apply(lambda x : x.strip().upper().split('|')[0])"
   ]
  },
  {
   "cell_type": "code",
   "execution_count": 67,
   "metadata": {},
   "outputs": [],
   "source": [
    "# sorting the columns in proper order\n",
    "cols = ['company_permalink', 'name', 'funding_round_permalink', 'funding_round_type',\n",
    "        'raised_amount_usd', 'country_code', 'category_list', 'primary_sector']\n",
    "\n",
    "top3_english = top3_english[cols]"
   ]
  },
  {
   "cell_type": "code",
   "execution_count": 68,
   "metadata": {},
   "outputs": [
    {
     "data": {
      "text/html": [
       "<div>\n",
       "<style scoped>\n",
       "    .dataframe tbody tr th:only-of-type {\n",
       "        vertical-align: middle;\n",
       "    }\n",
       "\n",
       "    .dataframe tbody tr th {\n",
       "        vertical-align: top;\n",
       "    }\n",
       "\n",
       "    .dataframe thead th {\n",
       "        text-align: right;\n",
       "    }\n",
       "</style>\n",
       "<table border=\"1\" class=\"dataframe\">\n",
       "  <thead>\n",
       "    <tr style=\"text-align: right;\">\n",
       "      <th></th>\n",
       "      <th>company_permalink</th>\n",
       "      <th>name</th>\n",
       "      <th>funding_round_permalink</th>\n",
       "      <th>funding_round_type</th>\n",
       "      <th>raised_amount_usd</th>\n",
       "      <th>country_code</th>\n",
       "      <th>category_list</th>\n",
       "      <th>primary_sector</th>\n",
       "    </tr>\n",
       "  </thead>\n",
       "  <tbody>\n",
       "    <tr>\n",
       "      <th>90854</th>\n",
       "      <td>/ORGANIZATION/SMAATO</td>\n",
       "      <td>Smaato</td>\n",
       "      <td>/funding-round/d5124450673f359763bc7d470918a1bb</td>\n",
       "      <td>venture</td>\n",
       "      <td>25,000,000.00</td>\n",
       "      <td>USA</td>\n",
       "      <td>Advertising</td>\n",
       "      <td>ADVERTISING</td>\n",
       "    </tr>\n",
       "    <tr>\n",
       "      <th>79972</th>\n",
       "      <td>/ORGANIZATION/QLIANCE</td>\n",
       "      <td>Qliance Medical Management</td>\n",
       "      <td>/funding-round/7691eef0a17b3b2fd2eea0817c5b1be9</td>\n",
       "      <td>venture</td>\n",
       "      <td>6,000,000.00</td>\n",
       "      <td>USA</td>\n",
       "      <td>Health Care|Health Care Information Technology...</td>\n",
       "      <td>HEALTH CARE</td>\n",
       "    </tr>\n",
       "    <tr>\n",
       "      <th>18244</th>\n",
       "      <td>/ORGANIZATION/CELLERANT-THERAPEUTICS</td>\n",
       "      <td>Cellerant Therapeutics</td>\n",
       "      <td>/funding-round/7b27370bb4c82da467c1b3d6d745ce15</td>\n",
       "      <td>venture</td>\n",
       "      <td>2,022,678.00</td>\n",
       "      <td>USA</td>\n",
       "      <td>Biotechnology</td>\n",
       "      <td>BIOTECHNOLOGY</td>\n",
       "    </tr>\n",
       "    <tr>\n",
       "      <th>69654</th>\n",
       "      <td>/ORGANIZATION/OCTAVIAN</td>\n",
       "      <td>Octavian</td>\n",
       "      <td>/funding-round/064e089d61d00aaab89e6369d78449aa</td>\n",
       "      <td>venture</td>\n",
       "      <td>5,000,000.00</td>\n",
       "      <td>USA</td>\n",
       "      <td>Software</td>\n",
       "      <td>SOFTWARE</td>\n",
       "    </tr>\n",
       "  </tbody>\n",
       "</table>\n",
       "</div>"
      ],
      "text/plain": [
       "                          company_permalink                        name  \\\n",
       "90854                  /ORGANIZATION/SMAATO                      Smaato   \n",
       "79972                 /ORGANIZATION/QLIANCE  Qliance Medical Management   \n",
       "18244  /ORGANIZATION/CELLERANT-THERAPEUTICS      Cellerant Therapeutics   \n",
       "69654                /ORGANIZATION/OCTAVIAN                    Octavian   \n",
       "\n",
       "                               funding_round_permalink funding_round_type  \\\n",
       "90854  /funding-round/d5124450673f359763bc7d470918a1bb            venture   \n",
       "79972  /funding-round/7691eef0a17b3b2fd2eea0817c5b1be9            venture   \n",
       "18244  /funding-round/7b27370bb4c82da467c1b3d6d745ce15            venture   \n",
       "69654  /funding-round/064e089d61d00aaab89e6369d78449aa            venture   \n",
       "\n",
       "       raised_amount_usd country_code  \\\n",
       "90854      25,000,000.00          USA   \n",
       "79972       6,000,000.00          USA   \n",
       "18244       2,022,678.00          USA   \n",
       "69654       5,000,000.00          USA   \n",
       "\n",
       "                                           category_list primary_sector  \n",
       "90854                                        Advertising    ADVERTISING  \n",
       "79972  Health Care|Health Care Information Technology...    HEALTH CARE  \n",
       "18244                                      Biotechnology  BIOTECHNOLOGY  \n",
       "69654                                           Software       SOFTWARE  "
      ]
     },
     "execution_count": 68,
     "metadata": {},
     "output_type": "execute_result"
    }
   ],
   "source": [
    "top3_english.sample(4)"
   ]
  },
  {
   "cell_type": "code",
   "execution_count": 69,
   "metadata": {
    "scrolled": true
   },
   "outputs": [
    {
     "data": {
      "text/plain": [
       "687"
      ]
     },
     "execution_count": 69,
     "metadata": {},
     "output_type": "execute_result"
    }
   ],
   "source": [
    "#merging mapping_sector and top3_english data frames on key column ; Primary sector\n",
    "len(df_sector_mapping.primary_sector.unique())"
   ]
  },
  {
   "cell_type": "code",
   "execution_count": 70,
   "metadata": {},
   "outputs": [
    {
     "data": {
      "text/plain": [
       "564"
      ]
     },
     "execution_count": 70,
     "metadata": {},
     "output_type": "execute_result"
    }
   ],
   "source": [
    "len(top3_english.primary_sector.unique())"
   ]
  },
  {
   "cell_type": "code",
   "execution_count": 71,
   "metadata": {},
   "outputs": [
    {
     "data": {
      "text/plain": [
       "['Automotive & Sports',\n",
       " 'Cleantech / Semiconductors',\n",
       " 'Entertainment',\n",
       " 'Health',\n",
       " 'Manufacturing',\n",
       " 'News, Search and Messaging',\n",
       " 'Others',\n",
       " 'Social, Finance, Analytics, Advertising']"
      ]
     },
     "execution_count": 71,
     "metadata": {},
     "output_type": "execute_result"
    }
   ],
   "source": [
    "#main sectors\n",
    "sectors"
   ]
  },
  {
   "cell_type": "code",
   "execution_count": 72,
   "metadata": {},
   "outputs": [
    {
     "data": {
      "text/plain": [
       "{'ADAPTIVE EQUIPMENT',\n",
       " 'BIOTECHNOLOGY AND SEMICONDUCTOR',\n",
       " 'ENTERPRISE 2.0',\n",
       " 'GREENTECH',\n",
       " 'NATURAL GAS USES',\n",
       " 'NOT DEFINED',\n",
       " 'PRODUCT SEARCH',\n",
       " 'RACING',\n",
       " 'RAPIDLY EXPANDING',\n",
       " 'RETIREMENT',\n",
       " 'SPECIALTY RETAIL'}"
      ]
     },
     "execution_count": 72,
     "metadata": {},
     "output_type": "execute_result"
    }
   ],
   "source": [
    "set(top3_english.primary_sector.unique()) - set(df_sector_mapping.primary_sector.unique())"
   ]
  },
  {
   "cell_type": "markdown",
   "metadata": {},
   "source": [
    "we only need the sector mappings which are present in the Top 3 english countries. Therefore we will merge on left join"
   ]
  },
  {
   "cell_type": "code",
   "execution_count": 73,
   "metadata": {
    "scrolled": true
   },
   "outputs": [
    {
     "name": "stdout",
     "output_type": "stream",
     "text": [
      "Sum of Missing values per column\n",
      "company_permalink            0\n",
      "name                         0\n",
      "funding_round_permalink      0\n",
      "funding_round_type           0\n",
      "raised_amount_usd            0\n",
      "country_code                 0\n",
      "category_list                0\n",
      "primary_sector               0\n",
      "main_sector                230\n",
      "dtype: int64\n"
     ]
    }
   ],
   "source": [
    "missing_values(pd.merge(top3_english, df_sector_mapping, on='primary_sector', how='left'))"
   ]
  },
  {
   "cell_type": "code",
   "execution_count": 74,
   "metadata": {},
   "outputs": [
    {
     "name": "stdout",
     "output_type": "stream",
     "text": [
      "% of Missing values per column\n",
      "company_permalink         0.00\n",
      "name                      0.00\n",
      "funding_round_permalink   0.00\n",
      "funding_round_type        0.00\n",
      "raised_amount_usd         0.00\n",
      "country_code              0.00\n",
      "category_list             0.00\n",
      "primary_sector            0.00\n",
      "main_sector               0.59\n",
      "dtype: float64\n"
     ]
    }
   ],
   "source": [
    "missing_values(pd.merge(top3_english, df_sector_mapping, on='primary_sector', how='left'), 'perc')"
   ]
  },
  {
   "cell_type": "markdown",
   "metadata": {},
   "source": [
    "Since the missing values are very low, we can drop the missing row values for primary sector from the merged data. Therefore now we merge them on inner join."
   ]
  },
  {
   "cell_type": "code",
   "execution_count": 75,
   "metadata": {},
   "outputs": [],
   "source": [
    "merged_top3_english = pd.merge(top3_english, df_sector_mapping, on='primary_sector', how='inner')"
   ]
  },
  {
   "cell_type": "code",
   "execution_count": 76,
   "metadata": {},
   "outputs": [
    {
     "data": {
      "text/plain": [
       "Int64Index([    0,     1,     2,     3,     4,     5,     6,     7,     8,\n",
       "                9,\n",
       "            ...\n",
       "            38778, 38779, 38780, 38781, 38782, 38783, 38784, 38785, 38786,\n",
       "            38787],\n",
       "           dtype='int64', length=38788)"
      ]
     },
     "execution_count": 76,
     "metadata": {},
     "output_type": "execute_result"
    }
   ],
   "source": [
    "merged_top3_english.index"
   ]
  },
  {
   "cell_type": "code",
   "execution_count": 77,
   "metadata": {},
   "outputs": [],
   "source": [
    "merged_top3_english.reset_index(drop=True, inplace=True)"
   ]
  },
  {
   "cell_type": "code",
   "execution_count": 78,
   "metadata": {},
   "outputs": [
    {
     "data": {
      "text/plain": [
       "RangeIndex(start=0, stop=38788, step=1)"
      ]
     },
     "execution_count": 78,
     "metadata": {},
     "output_type": "execute_result"
    }
   ],
   "source": [
    "merged_top3_english.index"
   ]
  },
  {
   "cell_type": "code",
   "execution_count": 79,
   "metadata": {
    "scrolled": true
   },
   "outputs": [
    {
     "name": "stdout",
     "output_type": "stream",
     "text": [
      "<class 'pandas.core.frame.DataFrame'>\n",
      "RangeIndex: 38788 entries, 0 to 38787\n",
      "Data columns (total 9 columns):\n",
      "company_permalink          38788 non-null object\n",
      "name                       38788 non-null object\n",
      "funding_round_permalink    38788 non-null object\n",
      "funding_round_type         38788 non-null object\n",
      "raised_amount_usd          38788 non-null float64\n",
      "country_code               38788 non-null object\n",
      "category_list              38788 non-null object\n",
      "primary_sector             38788 non-null object\n",
      "main_sector                38788 non-null object\n",
      "dtypes: float64(1), object(8)\n",
      "memory usage: 2.7+ MB\n"
     ]
    }
   ],
   "source": [
    "merged_top3_english.info()"
   ]
  },
  {
   "cell_type": "markdown",
   "metadata": {},
   "source": [
    "### Sector Analysis 2"
   ]
  },
  {
   "cell_type": "markdown",
   "metadata": {},
   "source": [
    "Now, the aim is to find out the most heavily invested main sectors in each of the three countries (for funding type 'Venture' and investments range of 5-15 M USD).\n",
    "\n",
    "\n",
    "Splitting the frame into three frames based on each country and range of investment"
   ]
  },
  {
   "cell_type": "code",
   "execution_count": 80,
   "metadata": {},
   "outputs": [],
   "source": [
    "df_C1 = merged_top3_english.loc[(merged_top3_english['country_code'] == 'USA') & (\n",
    "    (merged_top3_english['raised_amount_usd'] >= 5000000) & (merged_top3_english['raised_amount_usd'] <= 15000000))]"
   ]
  },
  {
   "cell_type": "code",
   "execution_count": 81,
   "metadata": {},
   "outputs": [],
   "source": [
    "df_C2 = merged_top3_english.loc[(merged_top3_english['country_code'] == 'GBR') & (\n",
    "    (merged_top3_english['raised_amount_usd'] >= 5000000) & (merged_top3_english['raised_amount_usd'] <= 15000000))]"
   ]
  },
  {
   "cell_type": "code",
   "execution_count": 82,
   "metadata": {},
   "outputs": [],
   "source": [
    "df_C3 = merged_top3_english.loc[(merged_top3_english['country_code'] == 'IND') & (\n",
    "    (merged_top3_english['raised_amount_usd'] >= 5000000) & (merged_top3_english['raised_amount_usd'] <= 15000000))]"
   ]
  },
  {
   "cell_type": "code",
   "execution_count": 83,
   "metadata": {},
   "outputs": [],
   "source": [
    "top_C = {'United States': df_C1,\n",
    "         'United Kingdom': df_C2,\n",
    "         'India': df_C3}"
   ]
  },
  {
   "cell_type": "code",
   "execution_count": 84,
   "metadata": {
    "scrolled": true
   },
   "outputs": [
    {
     "name": "stdout",
     "output_type": "stream",
     "text": [
      "\n",
      "\n",
      " Info for Country: United States\n",
      "\n",
      "<class 'pandas.core.frame.DataFrame'>\n",
      "Int64Index: 12063 entries, 4 to 38781\n",
      "Data columns (total 9 columns):\n",
      "company_permalink          12063 non-null object\n",
      "name                       12063 non-null object\n",
      "funding_round_permalink    12063 non-null object\n",
      "funding_round_type         12063 non-null object\n",
      "raised_amount_usd          12063 non-null float64\n",
      "country_code               12063 non-null object\n",
      "category_list              12063 non-null object\n",
      "primary_sector             12063 non-null object\n",
      "main_sector                12063 non-null object\n",
      "dtypes: float64(1), object(8)\n",
      "memory usage: 942.4+ KB\n",
      "None\n",
      "\n",
      "\n",
      " Info for Country: United Kingdom\n",
      "\n",
      "<class 'pandas.core.frame.DataFrame'>\n",
      "Int64Index: 621 entries, 1 to 38776\n",
      "Data columns (total 9 columns):\n",
      "company_permalink          621 non-null object\n",
      "name                       621 non-null object\n",
      "funding_round_permalink    621 non-null object\n",
      "funding_round_type         621 non-null object\n",
      "raised_amount_usd          621 non-null float64\n",
      "country_code               621 non-null object\n",
      "category_list              621 non-null object\n",
      "primary_sector             621 non-null object\n",
      "main_sector                621 non-null object\n",
      "dtypes: float64(1), object(8)\n",
      "memory usage: 48.5+ KB\n",
      "None\n",
      "\n",
      "\n",
      " Info for Country: India\n",
      "\n",
      "<class 'pandas.core.frame.DataFrame'>\n",
      "Int64Index: 328 entries, 0 to 38557\n",
      "Data columns (total 9 columns):\n",
      "company_permalink          328 non-null object\n",
      "name                       328 non-null object\n",
      "funding_round_permalink    328 non-null object\n",
      "funding_round_type         328 non-null object\n",
      "raised_amount_usd          328 non-null float64\n",
      "country_code               328 non-null object\n",
      "category_list              328 non-null object\n",
      "primary_sector             328 non-null object\n",
      "main_sector                328 non-null object\n",
      "dtypes: float64(1), object(8)\n",
      "memory usage: 25.6+ KB\n",
      "None\n"
     ]
    }
   ],
   "source": [
    "for k, v in top_C.items():\n",
    "    print('\\n\\n Info for Country: {}\\n'.format(k))\n",
    "    print(v.info())"
   ]
  },
  {
   "cell_type": "code",
   "execution_count": 85,
   "metadata": {},
   "outputs": [],
   "source": [
    "for k,v in top_C.items():\n",
    "    v.reset_index(drop=True, inplace=True)"
   ]
  },
  {
   "cell_type": "code",
   "execution_count": 86,
   "metadata": {
    "scrolled": true
   },
   "outputs": [
    {
     "name": "stdout",
     "output_type": "stream",
     "text": [
      "\n",
      "\n",
      " Sum of investments in each sector for country: United States\n",
      "\n",
      "main_sector\n",
      "Others                                    26,321,007,002.00\n",
      "Social, Finance, Analytics, Advertising   23,807,376,964.00\n",
      "Cleantech / Semiconductors                21,633,430,822.00\n",
      "News, Search and Messaging                13,971,567,428.00\n",
      "Health                                     8,211,859,357.00\n",
      "Manufacturing                              7,258,553,378.00\n",
      "Entertainment                              5,099,197,982.00\n",
      "Automotive & Sports                        1,454,104,361.00\n",
      "Name: raised_amount_usd, dtype: float64\n",
      "\n",
      "\n",
      " Sum of investments in each sector for country: United Kingdom\n",
      "\n",
      "main_sector\n",
      "Others                                    1,283,624,289.00\n",
      "Cleantech / Semiconductors                1,163,990,056.00\n",
      "Social, Finance, Analytics, Advertising   1,089,404,014.00\n",
      "News, Search and Messaging                  615,746,235.00\n",
      "Entertainment                               482,784,687.00\n",
      "Manufacturing                               361,940,335.00\n",
      "Health                                      214,537,510.00\n",
      "Automotive & Sports                         167,051,565.00\n",
      "Name: raised_amount_usd, dtype: float64\n",
      "\n",
      "\n",
      " Sum of investments in each sector for country: India\n",
      "\n",
      "main_sector\n",
      "Others                                    1,013,409,507.00\n",
      "Social, Finance, Analytics, Advertising     550,549,550.00\n",
      "News, Search and Messaging                  433,834,545.00\n",
      "Entertainment                               280,830,000.00\n",
      "Manufacturing                               200,900,000.00\n",
      "Health                                      167,740,000.00\n",
      "Cleantech / Semiconductors                  165,380,000.00\n",
      "Automotive & Sports                         136,900,000.00\n",
      "Name: raised_amount_usd, dtype: float64\n"
     ]
    }
   ],
   "source": [
    "for k,v in top_C.items():\n",
    "    print('\\n\\n Sum of investments in each sector for country: {}\\n'.format(k))\n",
    "    print(v.groupby(by='main_sector')['raised_amount_usd'].sum().sort_values(ascending = False))"
   ]
  },
  {
   "cell_type": "code",
   "execution_count": 87,
   "metadata": {
    "scrolled": true
   },
   "outputs": [
    {
     "name": "stdout",
     "output_type": "stream",
     "text": [
      "\n",
      "\n",
      " Number of investments in each sector for country: United States\n",
      "\n",
      "main_sector\n",
      "Others                                     2950\n",
      "Social, Finance, Analytics, Advertising    2714\n",
      "Cleantech / Semiconductors                 2350\n",
      "News, Search and Messaging                 1583\n",
      "Health                                      909\n",
      "Manufacturing                               799\n",
      "Entertainment                               591\n",
      "Automotive & Sports                         167\n",
      "Name: raised_amount_usd, dtype: int64\n",
      "\n",
      "\n",
      " Number of investments in each sector for country: United Kingdom\n",
      "\n",
      "main_sector\n",
      "Others                                     147\n",
      "Social, Finance, Analytics, Advertising    133\n",
      "Cleantech / Semiconductors                 130\n",
      "News, Search and Messaging                  73\n",
      "Entertainment                               56\n",
      "Manufacturing                               42\n",
      "Health                                      24\n",
      "Automotive & Sports                         16\n",
      "Name: raised_amount_usd, dtype: int64\n",
      "\n",
      "\n",
      " Number of investments in each sector for country: India\n",
      "\n",
      "main_sector\n",
      "Others                                     110\n",
      "Social, Finance, Analytics, Advertising     60\n",
      "News, Search and Messaging                  52\n",
      "Entertainment                               33\n",
      "Manufacturing                               21\n",
      "Cleantech / Semiconductors                  20\n",
      "Health                                      19\n",
      "Automotive & Sports                         13\n",
      "Name: raised_amount_usd, dtype: int64\n"
     ]
    }
   ],
   "source": [
    "for k,v in top_C.items():\n",
    "    print('\\n\\n Number of investments in each sector for country: {}\\n'.format(k))\n",
    "    print(v.groupby(by='main_sector')['raised_amount_usd'].count().sort_values(ascending = False))"
   ]
  },
  {
   "cell_type": "code",
   "execution_count": 88,
   "metadata": {
    "scrolled": false
   },
   "outputs": [
    {
     "name": "stderr",
     "output_type": "stream",
     "text": [
      "SettingWithCopyWarning: \n",
      "A value is trying to be set on a copy of a slice from a DataFrame.\n",
      "Try using .loc[row_indexer,col_indexer] = value instead\n",
      "\n",
      "See the caveats in the documentation: http://pandas.pydata.org/pandas-docs/stable/indexing.html#indexing-view-versus-copy [ipykernel_launcher.py:2]\n",
      "SettingWithCopyWarning: \n",
      "A value is trying to be set on a copy of a slice from a DataFrame.\n",
      "Try using .loc[row_indexer,col_indexer] = value instead\n",
      "\n",
      "See the caveats in the documentation: http://pandas.pydata.org/pandas-docs/stable/indexing.html#indexing-view-versus-copy [ipykernel_launcher.py:3]\n"
     ]
    }
   ],
   "source": [
    "for k,v in top_C.items():\n",
    "    v['number_of_investments'] = v.groupby(by='main_sector')['raised_amount_usd'].transform('count')\n",
    "    v['total_sum_investments'] = v.groupby(by='main_sector')['raised_amount_usd'].transform('sum')"
   ]
  },
  {
   "cell_type": "code",
   "execution_count": 89,
   "metadata": {},
   "outputs": [
    {
     "data": {
      "text/html": [
       "<div>\n",
       "<style scoped>\n",
       "    .dataframe tbody tr th:only-of-type {\n",
       "        vertical-align: middle;\n",
       "    }\n",
       "\n",
       "    .dataframe tbody tr th {\n",
       "        vertical-align: top;\n",
       "    }\n",
       "\n",
       "    .dataframe thead th {\n",
       "        text-align: right;\n",
       "    }\n",
       "</style>\n",
       "<table border=\"1\" class=\"dataframe\">\n",
       "  <thead>\n",
       "    <tr style=\"text-align: right;\">\n",
       "      <th></th>\n",
       "      <th>company_permalink</th>\n",
       "      <th>name</th>\n",
       "      <th>funding_round_permalink</th>\n",
       "      <th>funding_round_type</th>\n",
       "      <th>raised_amount_usd</th>\n",
       "      <th>country_code</th>\n",
       "      <th>category_list</th>\n",
       "      <th>primary_sector</th>\n",
       "      <th>main_sector</th>\n",
       "      <th>number_of_investments</th>\n",
       "      <th>total_sum_investments</th>\n",
       "    </tr>\n",
       "  </thead>\n",
       "  <tbody>\n",
       "    <tr>\n",
       "      <th>8693</th>\n",
       "      <td>/ORGANIZATION/INSITE-WIRELESS</td>\n",
       "      <td>InSite Wireless</td>\n",
       "      <td>/funding-round/9936e1b5d117f871095e480c99402b21</td>\n",
       "      <td>venture</td>\n",
       "      <td>7,000,000.00</td>\n",
       "      <td>USA</td>\n",
       "      <td>Mobile</td>\n",
       "      <td>MOBILE</td>\n",
       "      <td>News, Search and Messaging</td>\n",
       "      <td>1583</td>\n",
       "      <td>13,971,567,428.00</td>\n",
       "    </tr>\n",
       "    <tr>\n",
       "      <th>5300</th>\n",
       "      <td>/ORGANIZATION/SCANBUY</td>\n",
       "      <td>Scanbuy</td>\n",
       "      <td>/funding-round/62e5f73503bd2a2b9514dfd26bf5d5a5</td>\n",
       "      <td>venture</td>\n",
       "      <td>5,262,082.00</td>\n",
       "      <td>USA</td>\n",
       "      <td>Advertising|Data Visualization|Enterprise Soft...</td>\n",
       "      <td>ADVERTISING</td>\n",
       "      <td>Social, Finance, Analytics, Advertising</td>\n",
       "      <td>2714</td>\n",
       "      <td>23,807,376,964.00</td>\n",
       "    </tr>\n",
       "    <tr>\n",
       "      <th>11501</th>\n",
       "      <td>/ORGANIZATION/BAYNOTE</td>\n",
       "      <td>Baynote</td>\n",
       "      <td>/funding-round/ab8cd9029717774ebfd64ea000a5f04e</td>\n",
       "      <td>venture</td>\n",
       "      <td>10,750,000.00</td>\n",
       "      <td>USA</td>\n",
       "      <td>Reviews and Recommendations|Search|Software|We...</td>\n",
       "      <td>REVIEWS AND RECOMMENDATIONS</td>\n",
       "      <td>Entertainment</td>\n",
       "      <td>591</td>\n",
       "      <td>5,099,197,982.00</td>\n",
       "    </tr>\n",
       "    <tr>\n",
       "      <th>5854</th>\n",
       "      <td>/ORGANIZATION/SOLARIA</td>\n",
       "      <td>Solaria</td>\n",
       "      <td>/funding-round/e284cf3ffae0ef665a3cdbefe16d8157</td>\n",
       "      <td>venture</td>\n",
       "      <td>8,063,491.00</td>\n",
       "      <td>USA</td>\n",
       "      <td>Clean Technology</td>\n",
       "      <td>CLEAN TECHNOLOGY</td>\n",
       "      <td>Cleantech / Semiconductors</td>\n",
       "      <td>2350</td>\n",
       "      <td>21,633,430,822.00</td>\n",
       "    </tr>\n",
       "    <tr>\n",
       "      <th>2961</th>\n",
       "      <td>/ORGANIZATION/CBA-PHARMA</td>\n",
       "      <td>CBA PHARMA</td>\n",
       "      <td>/funding-round/31c97470b4e10d7a73ef579471b84458</td>\n",
       "      <td>venture</td>\n",
       "      <td>5,300,486.00</td>\n",
       "      <td>USA</td>\n",
       "      <td>Biotechnology</td>\n",
       "      <td>BIOTECHNOLOGY</td>\n",
       "      <td>Cleantech / Semiconductors</td>\n",
       "      <td>2350</td>\n",
       "      <td>21,633,430,822.00</td>\n",
       "    </tr>\n",
       "  </tbody>\n",
       "</table>\n",
       "</div>"
      ],
      "text/plain": [
       "                   company_permalink             name  \\\n",
       "8693   /ORGANIZATION/INSITE-WIRELESS  InSite Wireless   \n",
       "5300           /ORGANIZATION/SCANBUY          Scanbuy   \n",
       "11501          /ORGANIZATION/BAYNOTE          Baynote   \n",
       "5854           /ORGANIZATION/SOLARIA          Solaria   \n",
       "2961        /ORGANIZATION/CBA-PHARMA       CBA PHARMA   \n",
       "\n",
       "                               funding_round_permalink funding_round_type  \\\n",
       "8693   /funding-round/9936e1b5d117f871095e480c99402b21            venture   \n",
       "5300   /funding-round/62e5f73503bd2a2b9514dfd26bf5d5a5            venture   \n",
       "11501  /funding-round/ab8cd9029717774ebfd64ea000a5f04e            venture   \n",
       "5854   /funding-round/e284cf3ffae0ef665a3cdbefe16d8157            venture   \n",
       "2961   /funding-round/31c97470b4e10d7a73ef579471b84458            venture   \n",
       "\n",
       "       raised_amount_usd country_code  \\\n",
       "8693        7,000,000.00          USA   \n",
       "5300        5,262,082.00          USA   \n",
       "11501      10,750,000.00          USA   \n",
       "5854        8,063,491.00          USA   \n",
       "2961        5,300,486.00          USA   \n",
       "\n",
       "                                           category_list  \\\n",
       "8693                                              Mobile   \n",
       "5300   Advertising|Data Visualization|Enterprise Soft...   \n",
       "11501  Reviews and Recommendations|Search|Software|We...   \n",
       "5854                                    Clean Technology   \n",
       "2961                                       Biotechnology   \n",
       "\n",
       "                    primary_sector                              main_sector  \\\n",
       "8693                        MOBILE               News, Search and Messaging   \n",
       "5300                   ADVERTISING  Social, Finance, Analytics, Advertising   \n",
       "11501  REVIEWS AND RECOMMENDATIONS                            Entertainment   \n",
       "5854              CLEAN TECHNOLOGY               Cleantech / Semiconductors   \n",
       "2961                 BIOTECHNOLOGY               Cleantech / Semiconductors   \n",
       "\n",
       "       number_of_investments  total_sum_investments  \n",
       "8693                    1583      13,971,567,428.00  \n",
       "5300                    2714      23,807,376,964.00  \n",
       "11501                    591       5,099,197,982.00  \n",
       "5854                    2350      21,633,430,822.00  \n",
       "2961                    2350      21,633,430,822.00  "
      ]
     },
     "execution_count": 89,
     "metadata": {},
     "output_type": "execute_result"
    }
   ],
   "source": [
    "df_C1.sample(5)"
   ]
  },
  {
   "cell_type": "code",
   "execution_count": 90,
   "metadata": {},
   "outputs": [
    {
     "data": {
      "text/html": [
       "<div>\n",
       "<style scoped>\n",
       "    .dataframe tbody tr th:only-of-type {\n",
       "        vertical-align: middle;\n",
       "    }\n",
       "\n",
       "    .dataframe tbody tr th {\n",
       "        vertical-align: top;\n",
       "    }\n",
       "\n",
       "    .dataframe thead th {\n",
       "        text-align: right;\n",
       "    }\n",
       "</style>\n",
       "<table border=\"1\" class=\"dataframe\">\n",
       "  <thead>\n",
       "    <tr style=\"text-align: right;\">\n",
       "      <th></th>\n",
       "      <th>company_permalink</th>\n",
       "      <th>name</th>\n",
       "      <th>funding_round_permalink</th>\n",
       "      <th>funding_round_type</th>\n",
       "      <th>raised_amount_usd</th>\n",
       "      <th>country_code</th>\n",
       "      <th>category_list</th>\n",
       "      <th>primary_sector</th>\n",
       "      <th>main_sector</th>\n",
       "      <th>number_of_investments</th>\n",
       "      <th>total_sum_investments</th>\n",
       "    </tr>\n",
       "  </thead>\n",
       "  <tbody>\n",
       "    <tr>\n",
       "      <th>537</th>\n",
       "      <td>/ORGANIZATION/ALFRESCO</td>\n",
       "      <td>Alfresco</td>\n",
       "      <td>/funding-round/31e53d286c451b905ffaade895f4a83e</td>\n",
       "      <td>venture</td>\n",
       "      <td>8,000,000.00</td>\n",
       "      <td>GBR</td>\n",
       "      <td>Document Management|Enterprises|Enterprise Sof...</td>\n",
       "      <td>DOCUMENT MANAGEMENT</td>\n",
       "      <td>Others</td>\n",
       "      <td>147</td>\n",
       "      <td>1,283,624,289.00</td>\n",
       "    </tr>\n",
       "    <tr>\n",
       "      <th>414</th>\n",
       "      <td>/ORGANIZATION/YASA-MOTORS</td>\n",
       "      <td>YASA Motors</td>\n",
       "      <td>/funding-round/efcaffce05cb7a252310c45f25ef9382</td>\n",
       "      <td>venture</td>\n",
       "      <td>7,576,257.00</td>\n",
       "      <td>GBR</td>\n",
       "      <td>Automotive</td>\n",
       "      <td>AUTOMOTIVE</td>\n",
       "      <td>Automotive &amp; Sports</td>\n",
       "      <td>16</td>\n",
       "      <td>167,051,565.00</td>\n",
       "    </tr>\n",
       "    <tr>\n",
       "      <th>536</th>\n",
       "      <td>/ORGANIZATION/ALFRESCO</td>\n",
       "      <td>Alfresco</td>\n",
       "      <td>/funding-round/0db504d02c87c2b963283fd3c6d17594</td>\n",
       "      <td>venture</td>\n",
       "      <td>13,000,000.00</td>\n",
       "      <td>GBR</td>\n",
       "      <td>Document Management|Enterprises|Enterprise Sof...</td>\n",
       "      <td>DOCUMENT MANAGEMENT</td>\n",
       "      <td>Others</td>\n",
       "      <td>147</td>\n",
       "      <td>1,283,624,289.00</td>\n",
       "    </tr>\n",
       "    <tr>\n",
       "      <th>343</th>\n",
       "      <td>/ORGANIZATION/XCONNECT</td>\n",
       "      <td>XConnect Global Networks</td>\n",
       "      <td>/funding-round/e00a5959064408fee621e126b625e137</td>\n",
       "      <td>venture</td>\n",
       "      <td>12,000,000.00</td>\n",
       "      <td>GBR</td>\n",
       "      <td>Messaging|VoIP</td>\n",
       "      <td>MESSAGING</td>\n",
       "      <td>News, Search and Messaging</td>\n",
       "      <td>73</td>\n",
       "      <td>615,746,235.00</td>\n",
       "    </tr>\n",
       "    <tr>\n",
       "      <th>532</th>\n",
       "      <td>/ORGANIZATION/PSYTECHNICS</td>\n",
       "      <td>Psytechnics</td>\n",
       "      <td>/funding-round/e65bc20389fa0229280f860748aeb0a2</td>\n",
       "      <td>venture</td>\n",
       "      <td>11,600,000.00</td>\n",
       "      <td>GBR</td>\n",
       "      <td>Public Relations</td>\n",
       "      <td>PUBLIC RELATIONS</td>\n",
       "      <td>Social, Finance, Analytics, Advertising</td>\n",
       "      <td>133</td>\n",
       "      <td>1,089,404,014.00</td>\n",
       "    </tr>\n",
       "  </tbody>\n",
       "</table>\n",
       "</div>"
      ],
      "text/plain": [
       "             company_permalink                      name  \\\n",
       "537     /ORGANIZATION/ALFRESCO                  Alfresco   \n",
       "414  /ORGANIZATION/YASA-MOTORS               YASA Motors   \n",
       "536     /ORGANIZATION/ALFRESCO                  Alfresco   \n",
       "343     /ORGANIZATION/XCONNECT  XConnect Global Networks   \n",
       "532  /ORGANIZATION/PSYTECHNICS               Psytechnics   \n",
       "\n",
       "                             funding_round_permalink funding_round_type  \\\n",
       "537  /funding-round/31e53d286c451b905ffaade895f4a83e            venture   \n",
       "414  /funding-round/efcaffce05cb7a252310c45f25ef9382            venture   \n",
       "536  /funding-round/0db504d02c87c2b963283fd3c6d17594            venture   \n",
       "343  /funding-round/e00a5959064408fee621e126b625e137            venture   \n",
       "532  /funding-round/e65bc20389fa0229280f860748aeb0a2            venture   \n",
       "\n",
       "     raised_amount_usd country_code  \\\n",
       "537       8,000,000.00          GBR   \n",
       "414       7,576,257.00          GBR   \n",
       "536      13,000,000.00          GBR   \n",
       "343      12,000,000.00          GBR   \n",
       "532      11,600,000.00          GBR   \n",
       "\n",
       "                                         category_list       primary_sector  \\\n",
       "537  Document Management|Enterprises|Enterprise Sof...  DOCUMENT MANAGEMENT   \n",
       "414                                         Automotive           AUTOMOTIVE   \n",
       "536  Document Management|Enterprises|Enterprise Sof...  DOCUMENT MANAGEMENT   \n",
       "343                                     Messaging|VoIP            MESSAGING   \n",
       "532                                   Public Relations     PUBLIC RELATIONS   \n",
       "\n",
       "                                 main_sector  number_of_investments  \\\n",
       "537                                   Others                    147   \n",
       "414                      Automotive & Sports                     16   \n",
       "536                                   Others                    147   \n",
       "343               News, Search and Messaging                     73   \n",
       "532  Social, Finance, Analytics, Advertising                    133   \n",
       "\n",
       "     total_sum_investments  \n",
       "537       1,283,624,289.00  \n",
       "414         167,051,565.00  \n",
       "536       1,283,624,289.00  \n",
       "343         615,746,235.00  \n",
       "532       1,089,404,014.00  "
      ]
     },
     "execution_count": 90,
     "metadata": {},
     "output_type": "execute_result"
    }
   ],
   "source": [
    "df_C2.sample(5)"
   ]
  },
  {
   "cell_type": "code",
   "execution_count": 91,
   "metadata": {},
   "outputs": [
    {
     "data": {
      "text/html": [
       "<div>\n",
       "<style scoped>\n",
       "    .dataframe tbody tr th:only-of-type {\n",
       "        vertical-align: middle;\n",
       "    }\n",
       "\n",
       "    .dataframe tbody tr th {\n",
       "        vertical-align: top;\n",
       "    }\n",
       "\n",
       "    .dataframe thead th {\n",
       "        text-align: right;\n",
       "    }\n",
       "</style>\n",
       "<table border=\"1\" class=\"dataframe\">\n",
       "  <thead>\n",
       "    <tr style=\"text-align: right;\">\n",
       "      <th></th>\n",
       "      <th>company_permalink</th>\n",
       "      <th>name</th>\n",
       "      <th>funding_round_permalink</th>\n",
       "      <th>funding_round_type</th>\n",
       "      <th>raised_amount_usd</th>\n",
       "      <th>country_code</th>\n",
       "      <th>category_list</th>\n",
       "      <th>primary_sector</th>\n",
       "      <th>main_sector</th>\n",
       "      <th>number_of_investments</th>\n",
       "      <th>total_sum_investments</th>\n",
       "    </tr>\n",
       "  </thead>\n",
       "  <tbody>\n",
       "    <tr>\n",
       "      <th>226</th>\n",
       "      <td>/ORGANIZATION/QYUKI</td>\n",
       "      <td>Qyuki</td>\n",
       "      <td>/funding-round/94a8a24fa275da6ae289b8df26f42291</td>\n",
       "      <td>venture</td>\n",
       "      <td>10,000,000.00</td>\n",
       "      <td>IND</td>\n",
       "      <td>Collaboration|Creative|Curated Web|Music</td>\n",
       "      <td>COLLABORATION</td>\n",
       "      <td>Social, Finance, Analytics, Advertising</td>\n",
       "      <td>60</td>\n",
       "      <td>550,549,550.00</td>\n",
       "    </tr>\n",
       "    <tr>\n",
       "      <th>18</th>\n",
       "      <td>/ORGANIZATION/IPROF-LEARNING-SOLUTIONS</td>\n",
       "      <td>iProf Learning Solutions</td>\n",
       "      <td>/funding-round/0b08b0e63e79c8d76d2b37e8425009da</td>\n",
       "      <td>venture</td>\n",
       "      <td>9,000,000.00</td>\n",
       "      <td>IND</td>\n",
       "      <td>Education</td>\n",
       "      <td>EDUCATION</td>\n",
       "      <td>Others</td>\n",
       "      <td>110</td>\n",
       "      <td>1,013,409,507.00</td>\n",
       "    </tr>\n",
       "    <tr>\n",
       "      <th>5</th>\n",
       "      <td>/ORGANIZATION/MANTHAN-SYSTEMS</td>\n",
       "      <td>Manthan Systems</td>\n",
       "      <td>/funding-round/384bb8d8bc2a9a1df097f6a4c60e12dc</td>\n",
       "      <td>venture</td>\n",
       "      <td>15,000,000.00</td>\n",
       "      <td>IND</td>\n",
       "      <td>Analytics|Big Data Analytics|Business Intellig...</td>\n",
       "      <td>ANALYTICS</td>\n",
       "      <td>Social, Finance, Analytics, Advertising</td>\n",
       "      <td>60</td>\n",
       "      <td>550,549,550.00</td>\n",
       "    </tr>\n",
       "    <tr>\n",
       "      <th>240</th>\n",
       "      <td>/ORGANIZATION/MINGLEBOX</td>\n",
       "      <td>Minglebox</td>\n",
       "      <td>/funding-round/a7a249fb0e30627e5d533584a83df749</td>\n",
       "      <td>venture</td>\n",
       "      <td>7,000,000.00</td>\n",
       "      <td>IND</td>\n",
       "      <td>Social Media</td>\n",
       "      <td>SOCIAL MEDIA</td>\n",
       "      <td>Social, Finance, Analytics, Advertising</td>\n",
       "      <td>60</td>\n",
       "      <td>550,549,550.00</td>\n",
       "    </tr>\n",
       "    <tr>\n",
       "      <th>49</th>\n",
       "      <td>/ORGANIZATION/CANVERA-DIGITAL-TECHNOLOGIES</td>\n",
       "      <td>Canvera Digital Technologies</td>\n",
       "      <td>/funding-round/26650720abe4be67bb6550fd4ee6d063</td>\n",
       "      <td>venture</td>\n",
       "      <td>6,500,000.00</td>\n",
       "      <td>IND</td>\n",
       "      <td>Software</td>\n",
       "      <td>SOFTWARE</td>\n",
       "      <td>Others</td>\n",
       "      <td>110</td>\n",
       "      <td>1,013,409,507.00</td>\n",
       "    </tr>\n",
       "  </tbody>\n",
       "</table>\n",
       "</div>"
      ],
      "text/plain": [
       "                              company_permalink                          name  \\\n",
       "226                         /ORGANIZATION/QYUKI                         Qyuki   \n",
       "18       /ORGANIZATION/IPROF-LEARNING-SOLUTIONS      iProf Learning Solutions   \n",
       "5                 /ORGANIZATION/MANTHAN-SYSTEMS               Manthan Systems   \n",
       "240                     /ORGANIZATION/MINGLEBOX                     Minglebox   \n",
       "49   /ORGANIZATION/CANVERA-DIGITAL-TECHNOLOGIES  Canvera Digital Technologies   \n",
       "\n",
       "                             funding_round_permalink funding_round_type  \\\n",
       "226  /funding-round/94a8a24fa275da6ae289b8df26f42291            venture   \n",
       "18   /funding-round/0b08b0e63e79c8d76d2b37e8425009da            venture   \n",
       "5    /funding-round/384bb8d8bc2a9a1df097f6a4c60e12dc            venture   \n",
       "240  /funding-round/a7a249fb0e30627e5d533584a83df749            venture   \n",
       "49   /funding-round/26650720abe4be67bb6550fd4ee6d063            venture   \n",
       "\n",
       "     raised_amount_usd country_code  \\\n",
       "226      10,000,000.00          IND   \n",
       "18        9,000,000.00          IND   \n",
       "5        15,000,000.00          IND   \n",
       "240       7,000,000.00          IND   \n",
       "49        6,500,000.00          IND   \n",
       "\n",
       "                                         category_list primary_sector  \\\n",
       "226           Collaboration|Creative|Curated Web|Music  COLLABORATION   \n",
       "18                                           Education      EDUCATION   \n",
       "5    Analytics|Big Data Analytics|Business Intellig...      ANALYTICS   \n",
       "240                                       Social Media   SOCIAL MEDIA   \n",
       "49                                            Software       SOFTWARE   \n",
       "\n",
       "                                 main_sector  number_of_investments  \\\n",
       "226  Social, Finance, Analytics, Advertising                     60   \n",
       "18                                    Others                    110   \n",
       "5    Social, Finance, Analytics, Advertising                     60   \n",
       "240  Social, Finance, Analytics, Advertising                     60   \n",
       "49                                    Others                    110   \n",
       "\n",
       "     total_sum_investments  \n",
       "226         550,549,550.00  \n",
       "18        1,013,409,507.00  \n",
       "5           550,549,550.00  \n",
       "240         550,549,550.00  \n",
       "49        1,013,409,507.00  "
      ]
     },
     "execution_count": 91,
     "metadata": {},
     "output_type": "execute_result"
    }
   ],
   "source": [
    "df_C3.sample(5)"
   ]
  },
  {
   "cell_type": "markdown",
   "metadata": {},
   "source": [
    "##### As we can see, the top 3 sectors in top 3 countries based on total number of investments in each sector are\n",
    "__United States__\n",
    "1. Others\n",
    "2. Social, Finance, Analytics, Advertising\n",
    "3. Cleantech / Semiconductors \n",
    "\n",
    "__United Kingdom__\n",
    "1. Others\n",
    "2. Social, Finance, Analytics, Advertising\n",
    "3. Cleantech / Semiconductors\n",
    "\n",
    "__India__\n",
    "1. Others\n",
    "2. Social, Finance, Analytics, Advertising\n",
    "3. News, Search and Messaging "
   ]
  },
  {
   "cell_type": "code",
   "execution_count": 92,
   "metadata": {},
   "outputs": [],
   "source": [
    "result_df = pd.concat([df_C1, df_C2, df_C3])\n",
    "result_df.reset_index(drop=True, inplace=True)"
   ]
  },
  {
   "cell_type": "code",
   "execution_count": 93,
   "metadata": {},
   "outputs": [
    {
     "name": "stdout",
     "output_type": "stream",
     "text": [
      "<class 'pandas.core.frame.DataFrame'>\n",
      "RangeIndex: 13012 entries, 0 to 13011\n",
      "Data columns (total 11 columns):\n",
      "company_permalink          13012 non-null object\n",
      "name                       13012 non-null object\n",
      "funding_round_permalink    13012 non-null object\n",
      "funding_round_type         13012 non-null object\n",
      "raised_amount_usd          13012 non-null float64\n",
      "country_code               13012 non-null object\n",
      "category_list              13012 non-null object\n",
      "primary_sector             13012 non-null object\n",
      "main_sector                13012 non-null object\n",
      "number_of_investments      13012 non-null int64\n",
      "total_sum_investments      13012 non-null float64\n",
      "dtypes: float64(2), int64(1), object(8)\n",
      "memory usage: 1.1+ MB\n"
     ]
    }
   ],
   "source": [
    "result_df.info()"
   ]
  },
  {
   "cell_type": "code",
   "execution_count": 94,
   "metadata": {},
   "outputs": [
    {
     "data": {
      "text/plain": [
       "country_code\n",
       "GBR      621\n",
       "IND      328\n",
       "USA    12063\n",
       "dtype: int64"
      ]
     },
     "execution_count": 94,
     "metadata": {},
     "output_type": "execute_result"
    }
   ],
   "source": [
    "#total number of investments in each country\n",
    "result_df.pivot_table(index=['country_code'], columns=['main_sector'])['number_of_investments'].sum(axis=1)"
   ]
  },
  {
   "cell_type": "code",
   "execution_count": 95,
   "metadata": {},
   "outputs": [
    {
     "data": {
      "text/plain": [
       "country_code\n",
       "GBR     5,379,078,691.00\n",
       "IND     2,949,543,602.00\n",
       "USA   107,757,097,294.00\n",
       "dtype: float64"
      ]
     },
     "execution_count": 95,
     "metadata": {},
     "output_type": "execute_result"
    }
   ],
   "source": [
    "#total sum of investments in each country\n",
    "result_df.pivot_table(index=['country_code'], values='total_sum_investments',columns='main_sector').sum(axis=1)"
   ]
  },
  {
   "cell_type": "code",
   "execution_count": 96,
   "metadata": {},
   "outputs": [
    {
     "name": "stderr",
     "output_type": "stream",
     "text": [
      "FutureWarning: Using a non-tuple sequence for multidimensional indexing is deprecated; use `arr[tuple(seq)]` instead of `arr[seq]`. In the future this will be interpreted as an array index, `arr[np.array(seq)]`, which will result either in an error or a different result. [stats.py:1713]\n"
     ]
    },
    {
     "data": {
      "image/png": "[encoded data removed]",
      "text/plain": [
       "<Figure size 720x576 with 1 Axes>"
      ]
     },
     "metadata": {},
     "output_type": "display_data"
    }
   ],
   "source": [
    "plt.figure(figsize=(10, 8))\n",
    "sns.barplot(y=\"main_sector\", x = 'total_sum_investments',data=result_df.sort_values(by='total_sum_investments'),  hue='country_code')\n",
    "plt.xscale('log')\n",
    "plt.title(\"Total sum of investments across sectors\")\n",
    "plt.show()"
   ]
  },
  {
   "cell_type": "code",
   "execution_count": 97,
   "metadata": {
    "scrolled": false
   },
   "outputs": [
    {
     "name": "stderr",
     "output_type": "stream",
     "text": [
      "FutureWarning: Using a non-tuple sequence for multidimensional indexing is deprecated; use `arr[tuple(seq)]` instead of `arr[seq]`. In the future this will be interpreted as an array index, `arr[np.array(seq)]`, which will result either in an error or a different result. [stats.py:1713]\n"
     ]
    },
    {
     "data": {
      "image/png": "[encoded data removed]",
      "text/plain": [
       "<Figure size 720x576 with 1 Axes>"
      ]
     },
     "metadata": {},
     "output_type": "display_data"
    }
   ],
   "source": [
    "plt.figure(figsize=(10, 8))\n",
    "sns.barplot(y='main_sector', x='number_of_investments', hue=\"country_code\", data=result_df.sort_values(by='number_of_investments'))\n",
    "plt.xscale('log')\n",
    "plt.title('Total number(count) of investments across sectors')\n",
    "plt.show()"
   ]
  },
  {
   "cell_type": "markdown",
   "metadata": {},
   "source": [
    "### Plot"
   ]
  },
  {
   "cell_type": "code",
   "execution_count": 98,
   "metadata": {},
   "outputs": [],
   "source": [
    "#top 3 sectors list for each country\n",
    "su = ['Others', 'Social, Finance, Analytics, Advertising', 'Cleantech / Semiconductors']\n",
    "si = ['Others', 'Social, Finance, Analytics, Advertising', 'News, Search and Messaging']"
   ]
  },
  {
   "cell_type": "code",
   "execution_count": 99,
   "metadata": {},
   "outputs": [],
   "source": [
    "df_C1_3 = df_C1[df_C1['main_sector'].isin(su)]\n",
    "df_C2_3 = df_C2[df_C2['main_sector'].isin(su)]\n",
    "df_C3_3 = df_C3[df_C3['main_sector'].isin(si)]"
   ]
  },
  {
   "cell_type": "code",
   "execution_count": 100,
   "metadata": {},
   "outputs": [
    {
     "name": "stderr",
     "output_type": "stream",
     "text": [
      "FutureWarning: Using a non-tuple sequence for multidimensional indexing is deprecated; use `arr[tuple(seq)]` instead of `arr[seq]`. In the future this will be interpreted as an array index, `arr[np.array(seq)]`, which will result either in an error or a different result. [stats.py:1713]\n"
     ]
    },
    {
     "data": {
      "image/png": "[encoded data removed]",
      "text/plain": [
       "<Figure size 720x648 with 1 Axes>"
      ]
     },
     "metadata": {},
     "output_type": "display_data"
    }
   ],
   "source": [
    "plt.figure(figsize=(10, 9))\n",
    "results_2 = pd.concat([df_C1_3, df_C2_3, df_C3_3])\n",
    "sns.barplot(x='country_code',y='number_of_investments', hue=\"main_sector\", data=results_2.sort_values(by='number_of_investments', ascending=False))\n",
    "plt.title('Top 3 sectors for top 3 countries for venture funding type')\n",
    "plt.show()"
   ]
  },
  {
   "cell_type": "code",
   "execution_count": 101,
   "metadata": {},
   "outputs": [
    {
     "data": {
      "text/plain": [
       "country_code  company_permalink        \n",
       "USA           /ORGANIZATION/VIRTUSTREAM   64,300,000.00\n",
       "              /ORGANIZATION/CAPELLA       54,968,051.00\n",
       "Name: raised_amount_usd, dtype: float64"
      ]
     },
     "execution_count": 101,
     "metadata": {},
     "output_type": "execute_result"
    }
   ],
   "source": [
    "df_C1_3[df_C1_3['main_sector']=='Others'].groupby(by=['country_code','company_permalink'])['raised_amount_usd'].sum().sort_values(ascending=False)[:2]"
   ]
  },
  {
   "cell_type": "code",
   "execution_count": 102,
   "metadata": {},
   "outputs": [
    {
     "data": {
      "text/plain": [
       "country_code  company_permalink           \n",
       "GBR           /ORGANIZATION/ELECTRIC-CLOUD   37,000,000.00\n",
       "              /ORGANIZATION/SENSAGE          36,250,000.00\n",
       "Name: raised_amount_usd, dtype: float64"
      ]
     },
     "execution_count": 102,
     "metadata": {},
     "output_type": "execute_result"
    }
   ],
   "source": [
    "df_C2_3[df_C2_3['main_sector']=='Others'].groupby(by=['country_code','company_permalink'])['raised_amount_usd'].sum().sort_values(ascending=False)[:2]"
   ]
  },
  {
   "cell_type": "code",
   "execution_count": 103,
   "metadata": {},
   "outputs": [
    {
     "data": {
      "text/plain": [
       "country_code  company_permalink         \n",
       "IND           /ORGANIZATION/FIRSTCRY-COM   39,000,000.00\n",
       "              /ORGANIZATION/MYNTRA         38,000,000.00\n",
       "Name: raised_amount_usd, dtype: float64"
      ]
     },
     "execution_count": 103,
     "metadata": {},
     "output_type": "execute_result"
    }
   ],
   "source": [
    "df_C3_3[df_C3_3['main_sector']=='Others'].groupby(by=['country_code','company_permalink'])['raised_amount_usd'].sum().sort_values(ascending=False)[:2]"
   ]
  },
  {
   "cell_type": "code",
   "execution_count": 104,
   "metadata": {},
   "outputs": [
    {
     "data": {
      "text/plain": [
       "country_code  company_permalink        \n",
       "USA           /ORGANIZATION/SHOTSPOTTER   67,933,006.00\n",
       "              /ORGANIZATION/DEMANDBASE    63,000,000.00\n",
       "Name: raised_amount_usd, dtype: float64"
      ]
     },
     "execution_count": 104,
     "metadata": {},
     "output_type": "execute_result"
    }
   ],
   "source": [
    "df_C1_3[df_C1_3['main_sector']=='Social, Finance, Analytics, Advertising'].groupby(by=['country_code','company_permalink'])['raised_amount_usd'].sum().sort_values(ascending=False)[:2]"
   ]
  },
  {
   "cell_type": "code",
   "execution_count": 105,
   "metadata": {},
   "outputs": [
    {
     "data": {
      "text/plain": [
       "country_code  company_permalink                  \n",
       "GBR           /ORGANIZATION/CELLTICK-TECHNOLOGIES   37,500,000.00\n",
       "              /ORGANIZATION/MYTHINGS                34,000,000.00\n",
       "Name: raised_amount_usd, dtype: float64"
      ]
     },
     "execution_count": 105,
     "metadata": {},
     "output_type": "execute_result"
    }
   ],
   "source": [
    "df_C2_3[df_C2_3['main_sector']=='Social, Finance, Analytics, Advertising'].groupby(by=['country_code','company_permalink'])['raised_amount_usd'].sum().sort_values(ascending=False)[:2]"
   ]
  },
  {
   "cell_type": "code",
   "execution_count": 106,
   "metadata": {},
   "outputs": [
    {
     "data": {
      "text/plain": [
       "country_code  company_permalink            \n",
       "IND           /ORGANIZATION/MANTHAN-SYSTEMS   50,700,000.00\n",
       "              /ORGANIZATION/KOMLI-MEDIA       28,000,000.00\n",
       "Name: raised_amount_usd, dtype: float64"
      ]
     },
     "execution_count": 106,
     "metadata": {},
     "output_type": "execute_result"
    }
   ],
   "source": [
    "df_C3_3[df_C3_3['main_sector']=='Social, Finance, Analytics, Advertising'].groupby(by=['country_code','company_permalink'])['raised_amount_usd'].sum().sort_values(ascending=False)[:2]"
   ]
  }
 ],
 "metadata": {
  "kernelspec": {
   "display_name": "Python 3",
   "language": "python",
   "name": "python3"
  },
  "language_info": {
   "codemirror_mode": {
    "name": "ipython",
    "version": 3
   },
   "file_extension": ".py",
   "mimetype": "text/x-python",
   "name": "python",
   "nbconvert_exporter": "python",
   "pygments_lexer": "ipython3",
   "version": "3.6.6"
  },
  "latex_envs": {
   "LaTeX_envs_menu_present": true,
   "autoclose": false,
   "autocomplete": true,
   "bibliofile": "biblio.bib",
   "cite_by": "apalike",
   "current_citInitial": 1,
   "eqLabelWithNumbers": true,
   "eqNumInitial": 1,
   "hotkeys": {
    "equation": "Ctrl-E",
    "itemize": "Ctrl-I"
   },
   "labels_anchors": false,
   "latex_user_defs": false,
   "report_style_numbering": false,
   "user_envs_cfg": false
  },
  "toc": {
   "base_numbering": 1,
   "nav_menu": {},
   "number_sections": true,
   "sideBar": true,
   "skip_h1_title": false,
   "title_cell": "Table of Contents",
   "title_sidebar": "Contents",
   "toc_cell": false,
   "toc_position": {},
   "toc_section_display": true,
   "toc_window_display": false
  }
 },
 "nbformat": 4,
 "nbformat_minor": 2
}
