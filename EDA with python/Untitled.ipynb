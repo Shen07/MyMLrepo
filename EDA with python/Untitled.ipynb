{
 "cells": [
  {
   "cell_type": "code",
   "execution_count": 45,
   "metadata": {},
   "outputs": [],
   "source": [
    "import pandas as pd\n",
    "import numpy as np\n",
    "import matplotlib as plt\n",
    "import seaborn as sns"
   ]
  },
  {
   "cell_type": "code",
   "execution_count": 46,
   "metadata": {},
   "outputs": [],
   "source": [
    "pd.options.display.float_format = '{:,.2f}'.format"
   ]
  },
  {
   "cell_type": "code",
   "execution_count": 47,
   "metadata": {},
   "outputs": [],
   "source": [
    "file = 'C:/Users/Sheshu/IIITB_/EDA with python/nas.csv'"
   ]
  },
  {
   "cell_type": "code",
   "execution_count": 48,
   "metadata": {},
   "outputs": [],
   "source": [
    "df = pd.read_csv(file)"
   ]
  },
  {
   "cell_type": "code",
   "execution_count": 49,
   "metadata": {},
   "outputs": [
    {
     "data": {
      "text/plain": [
       "(8801, 64)"
      ]
     },
     "execution_count": 49,
     "metadata": {},
     "output_type": "execute_result"
    }
   ],
   "source": [
    "df.shape"
   ]
  },
  {
   "cell_type": "code",
   "execution_count": 50,
   "metadata": {
    "scrolled": true
   },
   "outputs": [
    {
     "data": {
      "text/plain": [
       "Index(['STUID', 'State', 'District', 'Gender', 'Age', 'Category',\n",
       "       'Same.language', 'Siblings', 'Handicap', 'Father.edu', 'Mother.edu',\n",
       "       'Father.occupation', 'Mother.occupation', 'Below.poverty',\n",
       "       'Use.calculator', 'Use.computer', 'Use.Internet', 'Use.dictionary',\n",
       "       'Read.other.books', 'X..Books', 'Distance', 'Computer.use',\n",
       "       'Library.use', 'Like.school', 'Subjects', 'Give.Lang.HW',\n",
       "       'Give.Math.HW', 'Give.Scie.HW', 'Give.SoSc.HW', 'Correct.Lang.HW',\n",
       "       'Correct.Math.HW', 'Correct.Scie.HW', 'Correct.SocS.HW',\n",
       "       'Help.in.Study', 'Private.tuition', 'English.is.difficult',\n",
       "       'Read.English', 'Dictionary.to.learn', 'Answer.English.WB',\n",
       "       'Answer.English.aloud', 'Maths.is.difficult', 'Solve.Maths',\n",
       "       'Solve.Maths.in.groups', 'Draw.geometry', 'Explain.answers',\n",
       "       'SocSci.is.difficult', 'Historical.excursions', 'Participate.in.SocSci',\n",
       "       'Small.groups.in.SocSci', 'Express.SocSci.views',\n",
       "       'Science.is.difficult', 'Observe.experiments', 'Conduct.experiments',\n",
       "       'Solve.science.problems', 'Express.science.views', 'Watch.TV',\n",
       "       'Read.magazine', 'Read.a.book', 'Play.games', 'Help.in.household',\n",
       "       'Maths..', 'Reading..', 'Science..', 'Social..'],\n",
       "      dtype='object')"
      ]
     },
     "execution_count": 50,
     "metadata": {},
     "output_type": "execute_result"
    }
   ],
   "source": [
    "df.columns"
   ]
  },
  {
   "cell_type": "code",
   "execution_count": 76,
   "metadata": {},
   "outputs": [],
   "source": [
    "df = df[df['Age'] != '11- years' ]"
   ]
  },
  {
   "cell_type": "code",
   "execution_count": 77,
   "metadata": {},
   "outputs": [
    {
     "data": {
      "text/plain": [
       "14 years     4349\n",
       "13 years     2798\n",
       "15 years      844\n",
       "12 years      298\n",
       "16+ years     264\n",
       "Name: Age, dtype: int64"
      ]
     },
     "execution_count": 77,
     "metadata": {},
     "output_type": "execute_result"
    }
   ],
   "source": [
    "df.Age.value_counts()"
   ]
  },
  {
   "cell_type": "code",
   "execution_count": 79,
   "metadata": {},
   "outputs": [],
   "source": [
    "dfg = df[['Father.edu', 'Science..','Age']].groupby('Age')"
   ]
  },
  {
   "cell_type": "code",
   "execution_count": 86,
   "metadata": {},
   "outputs": [
    {
     "data": {
      "text/html": [
       "<div>\n",
       "<style scoped>\n",
       "    .dataframe tbody tr th:only-of-type {\n",
       "        vertical-align: middle;\n",
       "    }\n",
       "\n",
       "    .dataframe tbody tr th {\n",
       "        vertical-align: top;\n",
       "    }\n",
       "\n",
       "    .dataframe thead th {\n",
       "        text-align: right;\n",
       "    }\n",
       "</style>\n",
       "<table border=\"1\" class=\"dataframe\">\n",
       "  <thead>\n",
       "    <tr style=\"text-align: right;\">\n",
       "      <th>Father.edu</th>\n",
       "      <th>Degree &amp; above</th>\n",
       "      <th>Illiterate</th>\n",
       "      <th>Primary</th>\n",
       "      <th>Secondary</th>\n",
       "      <th>Sr secondary</th>\n",
       "    </tr>\n",
       "    <tr>\n",
       "      <th>Age</th>\n",
       "      <th></th>\n",
       "      <th></th>\n",
       "      <th></th>\n",
       "      <th></th>\n",
       "      <th></th>\n",
       "    </tr>\n",
       "  </thead>\n",
       "  <tbody>\n",
       "    <tr>\n",
       "      <th>12 years</th>\n",
       "      <td>46.75</td>\n",
       "      <td>29.87</td>\n",
       "      <td>34.12</td>\n",
       "      <td>33.59</td>\n",
       "      <td>40.11</td>\n",
       "    </tr>\n",
       "    <tr>\n",
       "      <th>13 years</th>\n",
       "      <td>44.81</td>\n",
       "      <td>33.76</td>\n",
       "      <td>37.62</td>\n",
       "      <td>38.16</td>\n",
       "      <td>39.05</td>\n",
       "    </tr>\n",
       "    <tr>\n",
       "      <th>14 years</th>\n",
       "      <td>42.68</td>\n",
       "      <td>35.32</td>\n",
       "      <td>36.70</td>\n",
       "      <td>36.74</td>\n",
       "      <td>39.05</td>\n",
       "    </tr>\n",
       "    <tr>\n",
       "      <th>15 years</th>\n",
       "      <td>29.09</td>\n",
       "      <td>33.41</td>\n",
       "      <td>35.16</td>\n",
       "      <td>32.87</td>\n",
       "      <td>38.62</td>\n",
       "    </tr>\n",
       "    <tr>\n",
       "      <th>16+ years</th>\n",
       "      <td>32.73</td>\n",
       "      <td>33.12</td>\n",
       "      <td>32.36</td>\n",
       "      <td>30.96</td>\n",
       "      <td>31.51</td>\n",
       "    </tr>\n",
       "  </tbody>\n",
       "</table>\n",
       "</div>"
      ],
      "text/plain": [
       "Father.edu  Degree & above  Illiterate  Primary  Secondary  Sr secondary\n",
       "Age                                                                     \n",
       "12 years             46.75       29.87    34.12      33.59         40.11\n",
       "13 years             44.81       33.76    37.62      38.16         39.05\n",
       "14 years             42.68       35.32    36.70      36.74         39.05\n",
       "15 years             29.09       33.41    35.16      32.87         38.62\n",
       "16+ years            32.73       33.12    32.36      30.96         31.51"
      ]
     },
     "execution_count": 86,
     "metadata": {},
     "output_type": "execute_result"
    }
   ],
   "source": [
    "df.pivot_table(values='Science..', columns='Father.edu', index='Age', aggfunc='mean')"
   ]
  },
  {
   "cell_type": "code",
   "execution_count": null,
   "metadata": {},
   "outputs": [],
   "source": []
  }
 ],
 "metadata": {
  "kernelspec": {
   "display_name": "Python 3",
   "language": "python",
   "name": "python3"
  },
  "language_info": {
   "codemirror_mode": {
    "name": "ipython",
    "version": 3
   },
   "file_extension": ".py",
   "mimetype": "text/x-python",
   "name": "python",
   "nbconvert_exporter": "python",
   "pygments_lexer": "ipython3",
   "version": "3.6.6"
  },
  "latex_envs": {
   "LaTeX_envs_menu_present": true,
   "autoclose": false,
   "autocomplete": true,
   "bibliofile": "biblio.bib",
   "cite_by": "apalike",
   "current_citInitial": 1,
   "eqLabelWithNumbers": true,
   "eqNumInitial": 1,
   "hotkeys": {
    "equation": "Ctrl-E",
    "itemize": "Ctrl-I"
   },
   "labels_anchors": false,
   "latex_user_defs": false,
   "report_style_numbering": false,
   "user_envs_cfg": false
  },
  "toc": {
   "base_numbering": 1,
   "nav_menu": {},
   "number_sections": true,
   "sideBar": true,
   "skip_h1_title": false,
   "title_cell": "Table of Contents",
   "title_sidebar": "Contents",
   "toc_cell": false,
   "toc_position": {},
   "toc_section_display": true,
   "toc_window_display": false
  }
 },
 "nbformat": 4,
 "nbformat_minor": 2
}
